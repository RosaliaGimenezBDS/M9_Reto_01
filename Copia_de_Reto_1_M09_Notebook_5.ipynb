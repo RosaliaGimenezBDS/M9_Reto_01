{
  "cells": [
    {
      "cell_type": "markdown",
      "metadata": {
        "id": "view-in-github",
        "colab_type": "text"
      },
      "source": [
        "<a href=\"https://colab.research.google.com/github/RosaliaGimenezBDS/M9_Reto_01/blob/main/Copia_de_Reto_1_M09_Notebook_5.ipynb\" target=\"_parent\"><img src=\"https://colab.research.google.com/assets/colab-badge.svg\" alt=\"Open In Colab\"/></a>"
      ]
    },
    {
      "cell_type": "markdown",
      "metadata": {
        "id": "dG2MLbQvZy9h"
      },
      "source": [
        "# **Máster en Behavioral Data Science**\n",
        "## **Instituto de Formación Continua (IL3) - Universitat de Barcelona**\n",
        "## **Módulo 9: Aprendizaje Profundo - Reto 1** - (Notebook 5/5)\n",
        "Autores: **Meysam Madadi** & **Julio C. S. Jacques Junior**\n",
        "\n",
        "---"
      ]
    },
    {
      "cell_type": "markdown",
      "metadata": {
        "id": "6azMhdpv2Ylf"
      },
      "source": [
        "# **Prerrequisitos**\n",
        "- Consultar las instrucciones en los *Jupyter notebooks* anteriores.\n",
        "- Ejecutar los *Jupyter notebooks* anteriores, en este caso:\n",
        " - *Jupyter notebook* 1.\n",
        " - *Jupyter notebook* 2.\n",
        " - *Jupyter notebook* 3.\n",
        " - *Jupyter notebook* 4."
      ]
    },
    {
      "cell_type": "markdown",
      "metadata": {
        "id": "hsOOAmlq2c7S"
      },
      "source": [
        "# **Los objetivos de este Jupyter notebook**\n",
        "- **Evaluar una estrategia diferente para la mitigación de sesgos que no dependa del aumento de datos**, basada en una **función de pérdida ponderada**.\n",
        "- Refinaremos el modelo obtenido al final de la Etapa 1 usando una segunda etapa, pero ahora con esta nueva función de pérdida ponderada.\n",
        "- Luego, evaluaremos los de sesgos y compararemos los resultados.\n",
        "---"
      ]
    },
    {
      "cell_type": "markdown",
      "metadata": {
        "id": "RukF8nvQ47tv"
      },
      "source": [
        "## Comprobando la versión de tensorflow"
      ]
    },
    {
      "cell_type": "code",
      "execution_count": 9,
      "metadata": {
        "id": "TQw-JWZn4-NL",
        "colab": {
          "base_uri": "https://localhost:8080/"
        },
        "outputId": "636fad0d-01b7-4a45-c7ba-319b538a7675"
      },
      "outputs": [
        {
          "output_type": "stream",
          "name": "stdout",
          "text": [
            "2.17.0\n",
            "GPU disponible: [PhysicalDevice(name='/physical_device:GPU:0', device_type='GPU')]\n"
          ]
        }
      ],
      "source": [
        "# Este código fue probado en tensorflow 2.15.0\n",
        "#import tensorflow as tf\n",
        "import tensorflow as tf\n",
        "import tf_keras\n",
        "print(tf.__version__)\n",
        "\n",
        "print(\"GPU disponible:\", tf.config.list_physical_devices('GPU'))\n",
        "\n"
      ]
    },
    {
      "cell_type": "markdown",
      "metadata": {
        "id": "dwG95hLURSGj"
      },
      "source": [
        "# Montando nuestro Google Drive para guardar/cargar nuestros resultados"
      ]
    },
    {
      "cell_type": "code",
      "execution_count": 7,
      "metadata": {
        "colab": {
          "base_uri": "https://localhost:8080/"
        },
        "id": "g7sByyqKRae5",
        "outputId": "14684d42-14ca-430f-a866-c5ef722efd56"
      },
      "outputs": [
        {
          "output_type": "stream",
          "name": "stdout",
          "text": [
            "Drive already mounted at /content/gdrive; to attempt to forcibly remount, call drive.mount(\"/content/gdrive\", force_remount=True).\n"
          ]
        }
      ],
      "source": [
        "#--------------------------\n",
        "MOUNT_GOOGLE_DRIVE = True\n",
        "#--------------------------\n",
        "\n",
        "if(MOUNT_GOOGLE_DRIVE==True):\n",
        "  from google.colab import drive\n",
        "  drive.mount('/content/gdrive')\n",
        "  # Note, the default path will be: '/content/gdrive/MyDrive/'\n",
        "  # In my case, the final path will be: '/content/gdrive/MyDrive/M09-P01/' as I\n",
        "  # created a '/M09-P01/' folder in my google drive for this purpose."
      ]
    },
    {
      "cell_type": "markdown",
      "metadata": {
        "id": "YztHVxmckNEz"
      },
      "source": [
        "# Cargando el modelo y los datos preprocesados desde Drive"
      ]
    },
    {
      "cell_type": "code",
      "execution_count": 2,
      "metadata": {
        "id": "thG5tblfkR-O"
      },
      "outputs": [],
      "source": [
        "import numpy as np\n",
        "import tensorflow as tf\n",
        "#import random\n",
        "#import gc\n",
        "\n",
        "with open('/content/gdrive/MyDrive/M09-P01/train.npy', 'rb') as f:\n",
        "  X_train = np.load(f)\n",
        "  Y_train = np.load(f)\n",
        "  M_train = np.load(f)\n",
        "with open('/content/gdrive/MyDrive/M09-P01/valid.npy', 'rb') as f:\n",
        "  X_valid = np.load(f)\n",
        "  Y_valid = np.load(f)\n",
        "  M_valid = np.load(f)\n",
        "with open('/content/gdrive/MyDrive/M09-P01/test.npy', 'rb') as f:\n",
        "  X_test = np.load(f)\n",
        "  Y_test = np.load(f)\n",
        "  M_test = np.load(f)\n",
        "\n",
        "# the model is loaded in the next cell"
      ]
    },
    {
      "cell_type": "markdown",
      "metadata": {
        "id": "xjkJNXGilNfo"
      },
      "source": [
        "# **Mitigando el problema de sesgo utilizando una función de pérdida ponderada** (*weighted loss*).\n",
        "- A continuación, crearemos una **\"función de pérdida personalizada\", que da más peso a las personas que tienen menos muestras en los datos de entrenamiento**. De esta forma, la red intentará predecir mejor sus edades al intentar minimizar la pérdida total, \"minimizando\" el problema de desbalance de datos.\n",
        "- Para este ejemplo, **consideraremos solo el atributo de edad**, pero se podrían considerar otras categorías, así como soluciones más sofisticadas.\n"
      ]
    },
    {
      "cell_type": "markdown",
      "metadata": {
        "id": "RGjU8Xetxl3W"
      },
      "source": [
        "# **Generando los pesos para las muestras de entrenamiento**\n",
        "- Primero, generaremos un peso para cada grupo de edad (para g=1 a 4, es decir, \"0-19\", \"20-39\", \"40-59\" y \"60-100\");\n",
        "- La fórmula utilizada para calcular el peso de cada grupo $j$ es:\n",
        "\n",
        "  $w_j=n_{samples} / (n_{classes} * n_{samples,j}),$\n",
        "\n",
        "  Dónde\n",
        "\n",
        "     - $w_j$ es el peso de cada grupo $j$,\n",
        "     - $n_{samples}$ es el número de muestras en el conjunto de entrenamiento,\n",
        "     - $n_{clases}$ es el número de clases (4 en nuestro caso, ya que hemos dividido las edades en 4 grupos),\n",
        "     - $n_{samples,j}$ es el número de muestras de la clase $j$.\n",
        "- Durante el entrenamiento, le pasamos a *kereas* un vector de pesos, y la función de pérdida se calculará teniendo en cuenta el peso de cada grupo y la respectiva etiqueta de la muestra de entrenamiento."
      ]
    },
    {
      "cell_type": "code",
      "execution_count": 3,
      "metadata": {
        "colab": {
          "base_uri": "https://localhost:8080/"
        },
        "id": "svMMpvU9xcJR",
        "outputId": "52964086-c61d-4c80-cd0c-e2f6151963c7"
      },
      "outputs": [
        {
          "output_type": "stream",
          "name": "stdout",
          "text": [
            "group(s) size =  [623, 1730, 527, 120]\n",
            "weights per group =  [1.20385233 0.43352601 1.42314991 6.25      ]\n"
          ]
        }
      ],
      "source": [
        "# counting the number of samples per group in the train data (age attribute only)\n",
        "g1 = g2 = g3 = g4 = 0\n",
        "for i in range(0,Y_train.shape[0]):\n",
        "    if(Y_train[i]*100<20):\n",
        "      g1 +=1\n",
        "    if(Y_train[i]*100>=20 and Y_train[i]*100<40):\n",
        "      g2 +=1\n",
        "    if(Y_train[i]*100>=40 and Y_train[i]*100<60):\n",
        "      g3 +=1\n",
        "    if(Y_train[i]*100>=60):\n",
        "      g4 +=1\n",
        "print('group(s) size = ', [g1, g2, g3, g4])\n",
        "\n",
        "# generating the weights for each group using the equation defined above\n",
        "w = sum(np.array([g1, g2, g3, g4]))/(4*np.array([g1, g2, g3, g4]))\n",
        "print('weights per group = ', w)\n",
        "\n",
        "# creating a vector with same size as Y_train, that will link a particular label to its weight\n",
        "sample_weights = []\n",
        "for i in range(0,Y_train.shape[0]):\n",
        "    if(Y_train[i]*100<20):\n",
        "      sample_weights.append(w[0])\n",
        "    if(Y_train[i]*100>=20 and Y_train[i]*100<40):\n",
        "      sample_weights.append(w[1])\n",
        "    if(Y_train[i]*100>=40 and Y_train[i]*100<60):\n",
        "      sample_weights.append(w[2])\n",
        "    if(Y_train[i]*100>=60):\n",
        "      sample_weights.append(w[3])\n",
        "sample_weights = np.array(sample_weights)"
      ]
    },
    {
      "cell_type": "markdown",
      "metadata": {
        "id": "5gTtMXGmx5jA"
      },
      "source": [
        "# **Refinando nuestro modelo con una función de pérdida ponderada**\n",
        "- Ahora, en lugar de simplemente ajustar el modelo aprendido en la etapa 1 con la segunda etapa, **ajustamos el modelo aprendido en la etapa 1 con la segunda etapa, nuestra función de pérdida ponderada (y sin aumento de datos)**. De esta manera, podemos comparar las diferentes estrategias."
      ]
    },
    {
      "cell_type": "code",
      "execution_count": 10,
      "metadata": {
        "colab": {
          "base_uri": "https://localhost:8080/"
        },
        "id": "yVy94XTi0T_M",
        "outputId": "2016ea07-a015-496e-9d0e-905d787340f6"
      },
      "outputs": [
        {
          "output_type": "stream",
          "name": "stdout",
          "text": [
            "Epoch 1/50\n",
            "94/94 [==============================] - ETA: 0s - loss: 0.2525 - mae: 0.2145"
          ]
        },
        {
          "output_type": "stream",
          "name": "stderr",
          "text": [
            "/usr/local/lib/python3.10/dist-packages/tf_keras/src/engine/training.py:3098: UserWarning: You are saving your model as an HDF5 file via `model.save()`. This file format is considered legacy. We recommend using instead the native TF-Keras format, e.g. `model.save('my_model.keras')`.\n",
            "  saving_api.save_model(\n"
          ]
        },
        {
          "output_type": "stream",
          "name": "stdout",
          "text": [
            "\b\b\b\b\b\b\b\b\b\b\b\b\b\b\b\b\b\b\b\b\b\b\b\b\b\b\b\b\b\b\b\b\b\b\b\b\b\b\b\b\b\b\b\b\b\b\b\b\b\b\b\b\b\b\b\b\b\b\b\b\b\b\b\b\b\b\b\b\b\b\b\b\b\b\b\b\b\r94/94 [==============================] - 77s 504ms/step - loss: 0.2525 - mae: 0.2145 - val_loss: 0.2125 - val_mae: 0.1523\n",
            "Epoch 2/50\n",
            "94/94 [==============================] - 37s 391ms/step - loss: 0.2461 - mae: 0.2056 - val_loss: 0.2088 - val_mae: 0.1437\n",
            "Epoch 3/50\n",
            "94/94 [==============================] - 40s 431ms/step - loss: 0.2386 - mae: 0.1999 - val_loss: 0.2060 - val_mae: 0.1341\n",
            "Epoch 4/50\n",
            "94/94 [==============================] - 42s 453ms/step - loss: 0.2283 - mae: 0.1868 - val_loss: 0.2028 - val_mae: 0.1282\n",
            "Epoch 5/50\n",
            "94/94 [==============================] - 47s 506ms/step - loss: 0.2201 - mae: 0.1756 - val_loss: 0.2027 - val_mae: 0.1293\n",
            "Epoch 6/50\n",
            "94/94 [==============================] - 46s 491ms/step - loss: 0.2134 - mae: 0.1662 - val_loss: 0.1987 - val_mae: 0.1170\n",
            "Epoch 7/50\n",
            "94/94 [==============================] - 50s 531ms/step - loss: 0.2083 - mae: 0.1553 - val_loss: 0.1955 - val_mae: 0.1067\n",
            "Epoch 8/50\n",
            "94/94 [==============================] - 47s 504ms/step - loss: 0.2044 - mae: 0.1475 - val_loss: 0.1937 - val_mae: 0.1005\n",
            "Epoch 9/50\n",
            "94/94 [==============================] - 57s 613ms/step - loss: 0.2008 - mae: 0.1417 - val_loss: 0.1922 - val_mae: 0.0955\n",
            "Epoch 10/50\n",
            "94/94 [==============================] - 53s 568ms/step - loss: 0.1985 - mae: 0.1343 - val_loss: 0.1908 - val_mae: 0.0909\n",
            "Epoch 11/50\n",
            "94/94 [==============================] - 49s 522ms/step - loss: 0.1947 - mae: 0.1221 - val_loss: 0.1897 - val_mae: 0.0871\n",
            "Epoch 12/50\n",
            "94/94 [==============================] - 47s 505ms/step - loss: 0.1942 - mae: 0.1197 - val_loss: 0.1888 - val_mae: 0.0847\n",
            "Epoch 13/50\n",
            "94/94 [==============================] - 41s 440ms/step - loss: 0.1929 - mae: 0.1115 - val_loss: 0.1880 - val_mae: 0.0825\n",
            "Epoch 14/50\n",
            "94/94 [==============================] - 47s 501ms/step - loss: 0.1907 - mae: 0.1065 - val_loss: 0.1873 - val_mae: 0.0797\n",
            "Epoch 15/50\n",
            "94/94 [==============================] - 55s 588ms/step - loss: 0.1887 - mae: 0.0984 - val_loss: 0.1862 - val_mae: 0.0760\n",
            "Epoch 16/50\n",
            "94/94 [==============================] - 57s 613ms/step - loss: 0.1879 - mae: 0.0971 - val_loss: 0.1856 - val_mae: 0.0736\n",
            "Epoch 17/50\n",
            "94/94 [==============================] - 46s 486ms/step - loss: 0.1871 - mae: 0.0920 - val_loss: 0.1844 - val_mae: 0.0696\n",
            "Epoch 18/50\n",
            "94/94 [==============================] - 51s 540ms/step - loss: 0.1861 - mae: 0.0878 - val_loss: 0.1835 - val_mae: 0.0659\n",
            "Epoch 19/50\n",
            "94/94 [==============================] - 57s 613ms/step - loss: 0.1852 - mae: 0.0829 - val_loss: 0.1827 - val_mae: 0.0632\n",
            "Epoch 20/50\n",
            "94/94 [==============================] - 53s 569ms/step - loss: 0.1839 - mae: 0.0793 - val_loss: 0.1825 - val_mae: 0.0632\n",
            "Epoch 21/50\n",
            "94/94 [==============================] - 58s 619ms/step - loss: 0.1832 - mae: 0.0757 - val_loss: 0.1818 - val_mae: 0.0605\n",
            "Epoch 22/50\n",
            "94/94 [==============================] - 56s 598ms/step - loss: 0.1828 - mae: 0.0730 - val_loss: 0.1813 - val_mae: 0.0589\n",
            "Epoch 23/50\n",
            "94/94 [==============================] - 54s 577ms/step - loss: 0.1817 - mae: 0.0682 - val_loss: 0.1812 - val_mae: 0.0591\n",
            "Epoch 24/50\n",
            "94/94 [==============================] - 51s 546ms/step - loss: 0.1814 - mae: 0.0678 - val_loss: 0.1799 - val_mae: 0.0540\n",
            "Epoch 25/50\n",
            "94/94 [==============================] - 60s 636ms/step - loss: 0.1807 - mae: 0.0661 - val_loss: 0.1797 - val_mae: 0.0541\n",
            "Epoch 26/50\n",
            "94/94 [==============================] - 59s 634ms/step - loss: 0.1799 - mae: 0.0610 - val_loss: 0.1790 - val_mae: 0.0515\n",
            "Epoch 27/50\n",
            "94/94 [==============================] - 54s 577ms/step - loss: 0.1794 - mae: 0.0605 - val_loss: 0.1784 - val_mae: 0.0492\n",
            "Epoch 28/50\n",
            "94/94 [==============================] - 54s 582ms/step - loss: 0.1785 - mae: 0.0565 - val_loss: 0.1783 - val_mae: 0.0506\n",
            "Epoch 29/50\n",
            "94/94 [==============================] - 55s 590ms/step - loss: 0.1781 - mae: 0.0567 - val_loss: 0.1775 - val_mae: 0.0472\n",
            "Epoch 30/50\n",
            "94/94 [==============================] - 49s 525ms/step - loss: 0.1774 - mae: 0.0526 - val_loss: 0.1769 - val_mae: 0.0458\n",
            "Epoch 31/50\n",
            "94/94 [==============================] - 57s 614ms/step - loss: 0.1772 - mae: 0.0528 - val_loss: 0.1766 - val_mae: 0.0460\n",
            "Epoch 32/50\n",
            "94/94 [==============================] - 53s 570ms/step - loss: 0.1765 - mae: 0.0515 - val_loss: 0.1762 - val_mae: 0.0452\n",
            "Epoch 33/50\n",
            "94/94 [==============================] - 51s 545ms/step - loss: 0.1758 - mae: 0.0488 - val_loss: 0.1758 - val_mae: 0.0452\n",
            "Epoch 34/50\n",
            "94/94 [==============================] - 45s 477ms/step - loss: 0.1751 - mae: 0.0469 - val_loss: 0.1752 - val_mae: 0.0437\n",
            "Epoch 35/50\n",
            "94/94 [==============================] - 50s 531ms/step - loss: 0.1746 - mae: 0.0449 - val_loss: 0.1747 - val_mae: 0.0431\n",
            "Epoch 36/50\n",
            "94/94 [==============================] - 55s 592ms/step - loss: 0.1742 - mae: 0.0457 - val_loss: 0.1743 - val_mae: 0.0427\n",
            "Epoch 37/50\n",
            "94/94 [==============================] - 54s 572ms/step - loss: 0.1737 - mae: 0.0446 - val_loss: 0.1737 - val_mae: 0.0421\n",
            "Epoch 38/50\n",
            "94/94 [==============================] - 51s 548ms/step - loss: 0.1731 - mae: 0.0436 - val_loss: 0.1732 - val_mae: 0.0422\n",
            "Epoch 39/50\n",
            "94/94 [==============================] - 44s 473ms/step - loss: 0.1726 - mae: 0.0428 - val_loss: 0.1727 - val_mae: 0.0416\n",
            "Epoch 40/50\n",
            "94/94 [==============================] - 50s 529ms/step - loss: 0.1722 - mae: 0.0425 - val_loss: 0.1722 - val_mae: 0.0418\n",
            "Epoch 41/50\n",
            "94/94 [==============================] - 49s 526ms/step - loss: 0.1714 - mae: 0.0418 - val_loss: 0.1716 - val_mae: 0.0415\n",
            "Epoch 42/50\n",
            "94/94 [==============================] - 63s 676ms/step - loss: 0.1709 - mae: 0.0414 - val_loss: 0.1710 - val_mae: 0.0413\n",
            "Epoch 43/50\n",
            "94/94 [==============================] - 55s 591ms/step - loss: 0.1701 - mae: 0.0399 - val_loss: 0.1705 - val_mae: 0.0409\n",
            "Epoch 44/50\n",
            "94/94 [==============================] - 54s 572ms/step - loss: 0.1695 - mae: 0.0399 - val_loss: 0.1699 - val_mae: 0.0408\n",
            "Epoch 45/50\n",
            "94/94 [==============================] - 61s 651ms/step - loss: 0.1690 - mae: 0.0391 - val_loss: 0.1694 - val_mae: 0.0407\n",
            "Epoch 46/50\n",
            "94/94 [==============================] - 58s 615ms/step - loss: 0.1683 - mae: 0.0381 - val_loss: 0.1686 - val_mae: 0.0399\n",
            "Epoch 47/50\n",
            "94/94 [==============================] - 56s 601ms/step - loss: 0.1673 - mae: 0.0367 - val_loss: 0.1680 - val_mae: 0.0401\n",
            "Epoch 48/50\n",
            "94/94 [==============================] - 50s 534ms/step - loss: 0.1666 - mae: 0.0348 - val_loss: 0.1674 - val_mae: 0.0407\n",
            "Epoch 49/50\n",
            "94/94 [==============================] - 56s 594ms/step - loss: 0.1661 - mae: 0.0355 - val_loss: 0.1666 - val_mae: 0.0398\n",
            "Epoch 50/50\n",
            "94/94 [==============================] - 53s 570ms/step - loss: 0.1653 - mae: 0.0353 - val_loss: 0.1659 - val_mae: 0.0400\n"
          ]
        }
      ],
      "source": [
        "import pickle\n",
        "\n",
        "# LOADING THE PREVIOUSLY TRAINED MODEL\n",
        "model = tf_keras.models.load_model('/content/gdrive/MyDrive/M09-P01/best_model_st1.h5')\n",
        "\n",
        "# setting all layers of the model to trainable\n",
        "model.trainable = True\n",
        "\n",
        "#### MODEL TRAINING ####\n",
        "# defining the early stop criteria\n",
        "es = tf_keras.callbacks.EarlyStopping(monitor='val_loss', mode='min', verbose=1, patience=5)\n",
        "# saving the best model based on val_loss\n",
        "mc = tf_keras.callbacks.ModelCheckpoint('/content/gdrive/MyDrive/M09-P01/best_model_st2_custom_loss.h5', monitor='val_loss', mode='min', save_best_only=True)\n",
        "\n",
        "# defining the optimizer\n",
        "model.compile(tf_keras.optimizers.Adam(learning_rate=1e-5),loss=tf_keras.losses.MeanSquaredError(),metrics=['mae'])\n",
        "\n",
        "# training the model\n",
        "history = model.fit(X_train, Y_train, sample_weight=sample_weights, validation_data=(X_valid, Y_valid), batch_size=32, epochs=50, shuffle=True, verbose=1, callbacks=[es,mc])\n",
        "\n",
        "# saving training history (for future visualization)\n",
        "with open('/content/gdrive/MyDrive/M09-P01/train_history_st2_custom_loss.pkl', 'wb') as handle:\n",
        "  pickle.dump(history.history, handle, protocol=pickle.HIGHEST_PROTOCOL)\n"
      ]
    },
    {
      "cell_type": "markdown",
      "metadata": {
        "id": "TryU6F492_Sa"
      },
      "source": [
        "## Evaluando el modelo entrenado (Etapa 2, con una función de pérdida ponderada) en el conjunto de prueba"
      ]
    },
    {
      "cell_type": "code",
      "execution_count": 11,
      "metadata": {
        "id": "NWCsgr6r3GvS",
        "colab": {
          "base_uri": "https://localhost:8080/"
        },
        "outputId": "3c8c28d9-74b8-4aaf-d8a7-00f7ede8a1f2"
      },
      "outputs": [
        {
          "output_type": "stream",
          "name": "stdout",
          "text": [
            "Evaluating on the test set\n",
            "32/32 [==============================] - 3s 75ms/step\n",
            "\n",
            "The final mean absolute error (on the Test set)  is 4.4119289342733445 years old.\n"
          ]
        }
      ],
      "source": [
        "#loading the best model\n",
        "model = tf_keras.models.load_model('/content/gdrive/MyDrive/M09-P01/best_model_st2_custom_loss.h5')\n",
        "\n",
        "# Evaluate the trained model on the test set\n",
        "print('Evaluating on the test set')\n",
        "predictions_st2_custom_loss = model.predict(X_test, batch_size=32, verbose=1)\n",
        "\n",
        "# Computing the Mean Absolute Error\n",
        "# Also re-scaling the predictions to the range of \"age\" as the outputs are in the range of [0,1]\n",
        "mae = np.mean(abs(predictions_st2_custom_loss[:,0] - Y_test)*100)\n",
        "\n",
        "# Next we print the average error. Note that the error is rescaled back to the range [0-100]\n",
        "print('\\nThe final mean absolute error (on the Test set)  is ' + str(mae) + ' years old.')"
      ]
    },
    {
      "cell_type": "markdown",
      "metadata": {
        "id": "NpJCmvGQXDIS"
      },
      "source": [
        "# **Comparando ambos modelos en términos de valores de sesgo**\n",
        "- A continuación, evaluamos los valores de sesgo obtenidos por cada modelo:\n",
        " - Etapa 2 (estándar);\n",
        " - Etapa 2, con una función de pérdida ponderada."
      ]
    },
    {
      "cell_type": "code",
      "execution_count": 12,
      "metadata": {
        "id": "VtroHPd0ACMm",
        "colab": {
          "base_uri": "https://localhost:8080/"
        },
        "outputId": "cac74ca1-600d-453c-b898-4cb8c62dacce"
      },
      "outputs": [
        {
          "output_type": "stream",
          "name": "stdout",
          "text": [
            "--2024-09-12 20:27:37--  http://data.chalearnlap.cvc.uab.cat/Colab_MFPDS/2024BehaviorDSMaster/M9_r1/bias_functions.py\n",
            "Resolving data.chalearnlap.cvc.uab.cat (data.chalearnlap.cvc.uab.cat)... 158.109.8.102\n",
            "Connecting to data.chalearnlap.cvc.uab.cat (data.chalearnlap.cvc.uab.cat)|158.109.8.102|:80... connected.\n",
            "HTTP request sent, awaiting response... 200 OK\n",
            "Length: 4355 (4.3K) [application/octet-stream]\n",
            "Saving to: ‘bias_functions.py’\n",
            "\n",
            "bias_functions.py   100%[===================>]   4.25K  --.-KB/s    in 0s      \n",
            "\n",
            "2024-09-12 20:27:38 (529 MB/s) - ‘bias_functions.py’ saved [4355/4355]\n",
            "\n"
          ]
        }
      ],
      "source": [
        "# downloading our \"bias library\", which contains the functions used to evaluate\n",
        "# the different bias scores\n",
        "!wget http://data.chalearnlap.cvc.uab.cat/Colab_MFPDS/2024BehaviorDSMaster/M9_r1/bias_functions.py"
      ]
    },
    {
      "cell_type": "code",
      "execution_count": 13,
      "metadata": {
        "id": "YjrDG9AHLoPf",
        "colab": {
          "base_uri": "https://localhost:8080/"
        },
        "outputId": "68448dfc-7982-4c81-bd00-9862518aa459"
      },
      "outputs": [
        {
          "output_type": "stream",
          "name": "stdout",
          "text": [
            "=============================\n",
            "Age analysis:\n",
            "Size group 1 = 196, MAE = 3.903450\n",
            "Size group 2 = 533, MAE = 3.880654\n",
            "Size group 3 = 171, MAE = 4.087122\n",
            "Size group 4 = 100, MAE = 7.068462\n",
            "---------\n",
            "Age bias (Ba) =  1.6245158513387044\n",
            "=============================\n",
            "Age analysis:\n",
            "Size group 1 = 196, MAE = 4.742442\n",
            "Size group 2 = 533, MAE = 4.103395\n",
            "Size group 3 = 171, MAE = 4.405019\n",
            "Size group 4 = 100, MAE = 5.420425\n",
            "---------\n",
            "Age bias (Ba) =  0.7147523562113444\n",
            "=============================\n",
            "Gender analysis:\n",
            "Size group female = 549, MAE = 4.196381\n",
            "Size group male = 451, MAE = 4.291344\n",
            "---------\n",
            "Gender bias (Bg) =  0.094963074\n",
            "=============================\n",
            "Gender analysis:\n",
            "Size group female = 549, MAE = 4.376998\n",
            "Size group male = 451, MAE = 4.454450\n",
            "---------\n",
            "Gender bias (Bg) =  0.07745123\n",
            "=============================\n",
            "Ethnicity Analysis:\n",
            "Size group asian = 55, MAE = 4.734657\n",
            "Size group afroamerican = 21, MAE = 4.541964\n",
            "Size group caucasian = 924, MAE = 4.202837\n",
            "---------\n",
            "Ethnicity bias (Be) =  0.35454686482747394\n",
            "=============================\n",
            "Ethnicity Analysis:\n",
            "Size group asian = 55, MAE = 5.541320\n",
            "Size group afroamerican = 21, MAE = 5.168798\n",
            "Size group caucasian = 924, MAE = 4.327502\n",
            "---------\n",
            "Ethnicity bias (Be) =  0.8092120488484701\n",
            "=============================\n",
            "Face experession Analysis:\n",
            "Size group happy = 268, MAE = 4.261913\n",
            "Size group slightlyhappy = 291, MAE = 4.471818\n",
            "Size group neutral = 387, MAE = 4.050600\n",
            "Size group other = 54, MAE = 4.224721\n",
            "---------\n",
            "Face Expression bias (Bf) =  0.21680760383605957\n",
            "=============================\n",
            "Face experession Analysis:\n",
            "Size group happy = 268, MAE = 4.640802\n",
            "Size group slightlyhappy = 291, MAE = 4.560451\n",
            "Size group neutral = 387, MAE = 4.200207\n",
            "Size group other = 54, MAE = 3.993021\n",
            "---------\n",
            "Face Expression bias (Bf) =  0.3839309612909953\n"
          ]
        }
      ],
      "source": [
        "# importing the functions used to evaluate the different biases\n",
        "from bias_functions import age_bias, gender_bias, ethnicity_bias, face_expression_bias\n",
        "\n",
        "# loading the last saved model and perform prediction\n",
        "model = tf_keras.models.load_model('/content/gdrive/MyDrive/M09-P01/best_model_st2.h5')\n",
        "predictions_st2 = model.predict(tf.convert_to_tensor(X_test, dtype=tf.float32), batch_size=32, verbose=0)\n",
        "\n",
        "age_bias(predictions_st2*100, Y_test*100)\n",
        "age_bias(predictions_st2_custom_loss*100, Y_test*100)\n",
        "\n",
        "gender_bias(predictions_st2*100, Y_test*100, M_test)\n",
        "gender_bias(predictions_st2_custom_loss*100, Y_test*100, M_test)\n",
        "\n",
        "ethnicity_bias(predictions_st2*100, Y_test*100, M_test)\n",
        "ethnicity_bias(predictions_st2_custom_loss*100, Y_test*100, M_test)\n",
        "\n",
        "face_expression_bias(predictions_st2*100, Y_test*100, M_test)\n",
        "face_expression_bias(predictions_st2_custom_loss*100, Y_test*100, M_test)"
      ]
    },
    {
      "cell_type": "markdown",
      "metadata": {
        "id": "nsIBx9DzBt5j"
      },
      "source": [
        "# Visualizando el historial de entrenamiento usando diferentes estrategias\n",
        "- De manera similar a lo observado en el *Jupyter notebook* 4, las curvas de entrenamiento de ambos modelos muestran un comportamiento similar. Sin embargo, creemos que la nueva función de pérdida podría haber contribuido a mitigar el problema de sesgo, y esto puede analizarse de manera cuantitativa.\n",
        "- En general, los resultados pueden variar un poco según diferentes ejecuciones, debido a factores de inicialización, pero **pueden darnos una idea de lo que se puede hacer para mejorar las capacidades de generalización (y equidad) de nuestro modelo**."
      ]
    },
    {
      "cell_type": "code",
      "execution_count": 14,
      "metadata": {
        "id": "PhRwp8u0EkuV",
        "colab": {
          "base_uri": "https://localhost:8080/",
          "height": 442
        },
        "outputId": "d65dbb9c-d0e8-45b7-fb19-70719380443d"
      },
      "outputs": [
        {
          "output_type": "execute_result",
          "data": {
            "text/plain": [
              "<matplotlib.legend.Legend at 0x7a84807b0070>"
            ]
          },
          "metadata": {},
          "execution_count": 14
        },
        {
          "output_type": "display_data",
          "data": {
            "text/plain": [
              "<Figure size 1500x400 with 2 Axes>"
            ],
            "image/png": "[encoded data removed]"
          },
          "metadata": {}
        }
      ],
      "source": [
        "import pickle\n",
        "from matplotlib import pyplot as plt\n",
        "\n",
        "train_hist2 = pickle.load(open('/content/gdrive/MyDrive/M09-P01/train_history_st2.pkl',\"rb\"))\n",
        "train_hist3 = pickle.load(open('/content/gdrive/MyDrive/M09-P01/train_history_st2_custom_loss.pkl',\"rb\"))\n",
        "train_hist4 = pickle.load(open('/content/gdrive/MyDrive/M09-P01/train_history_st2_aug.pkl',\"rb\"))\n",
        "\n",
        "fig, (ax1, ax2) = plt.subplots(1, 2, figsize=(15, 4))\n",
        "fig.suptitle('Training history (Stage 2 vs. Stage 2 with custom loss)', fontsize=14, fontweight='bold')\n",
        "\n",
        "ax1.plot(train_hist2['loss'])\n",
        "ax1.plot(train_hist3['loss'])\n",
        "ax1.plot(train_hist2['val_loss'])\n",
        "ax1.plot(train_hist3['val_loss'])\n",
        "ax1.set(xlabel='epoch', ylabel='Loss')\n",
        "ax1.legend(['train', 'train custom', 'valid', 'valid cutsom'], loc='upper right')\n",
        "\n",
        "ax2.plot(train_hist2['mae'])\n",
        "ax2.plot(train_hist3['mae'])\n",
        "ax2.plot(train_hist2['val_mae'])\n",
        "ax2.plot(train_hist3['val_mae'])\n",
        "ax2.set(xlabel='epoch', ylabel='MAE')\n",
        "ax2.legend(['train', 'train custom', 'valid', 'valid custom'], loc='upper right')"
      ]
    }
  ],
  "metadata": {
    "colab": {
      "provenance": [],
      "gpuType": "T4",
      "include_colab_link": true
    },
    "kernelspec": {
      "display_name": "Python 3",
      "name": "python3"
    },
    "language_info": {
      "codemirror_mode": {
        "name": "ipython",
        "version": 3
      },
      "file_extension": ".py",
      "mimetype": "text/x-python",
      "name": "python",
      "nbconvert_exporter": "python",
      "pygments_lexer": "ipython3",
      "version": "3.6.3"
    },
    "accelerator": "GPU"
  },
  "nbformat": 4,
  "nbformat_minor": 0
}