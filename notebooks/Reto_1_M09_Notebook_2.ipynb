{
  "cells": [
    {
      "cell_type": "markdown",
      "metadata": {
        "id": "view-in-github",
        "colab_type": "text"
      },
      "source": [
        "<a href=\"https://colab.research.google.com/github/RosaliaGimenezBDS/M9_Reto_01/blob/main/Reto_1_M09_Notebook_2.ipynb\" target=\"_parent\"><img src=\"https://colab.research.google.com/assets/colab-badge.svg\" alt=\"Open In Colab\"/></a>"
      ]
    },
    {
      "cell_type": "markdown",
      "metadata": {
        "id": "dG2MLbQvZy9h"
      },
      "source": [
        "# **Máster en Behavioral Data Science**\n",
        "## **Instituto de Formación Continua (IL3) - Universitat de Barcelona**\n",
        "## **Módulo 9: Aprendizaje Profundo - Reto 1** - (Notebook 2/5)\n",
        "Autores: **Meysam Madadi** & **Julio C. S. Jacques Junior**\n",
        "\n",
        "---"
      ]
    },
    {
      "cell_type": "markdown",
      "source": [
        "# **Prerrequisitos**\n",
        "- Consultar las instrucciones en los *Jupyter notebooks* anteriores.\n",
        "- Ejecutar los *Jupyter notebooks* anteriores, en este caso:\n",
        " - *Jupyter notebook* 1."
      ],
      "metadata": {
        "id": "HYBv4ShXrni5"
      }
    },
    {
      "cell_type": "markdown",
      "source": [
        "# **Los objetivos de este Jupyter notebook**\n",
        "- Cargar los datos guardados en nuestro Google Drive;\n",
        "- Entrenar nuestra red (ResNet) desde cero (es decir, ignorando los pesos pre-entrenados);\n",
        "- Visualizar los resultados.\n",
        "---"
      ],
      "metadata": {
        "id": "8X0OdYPJsaM4"
      }
    },
    {
      "cell_type": "markdown",
      "source": [
        "## Comprobando la versión de tensorflow"
      ],
      "metadata": {
        "id": "dvxa4MGYtucA"
      }
    },
    {
      "cell_type": "code",
      "source": [
        "# Este código fue probado en tensorflow 2.15.0\n",
        "# Por algún motivo la versión actual es 2.17.0 , ya que nos dió errores en el primer notebook forzamos la instalacion de la versión 2.15.0 de nuevo\n",
        "!pip install tensorflow==2.15.0\n",
        "import tensorflow as tf\n",
        "print(tf.__version__)"
      ],
      "metadata": {
        "id": "KwcX9_RS_5af",
        "outputId": "7a5f3a80-4242-4b59-d52b-4a43c51f48f2",
        "colab": {
          "base_uri": "https://localhost:8080/"
        }
      },
      "execution_count": 2,
      "outputs": [
        {
          "output_type": "stream",
          "name": "stdout",
          "text": [
            "Requirement already satisfied: tensorflow==2.15.0 in /usr/local/lib/python3.10/dist-packages (2.15.0)\n",
            "Requirement already satisfied: absl-py>=1.0.0 in /usr/local/lib/python3.10/dist-packages (from tensorflow==2.15.0) (1.4.0)\n",
            "Requirement already satisfied: astunparse>=1.6.0 in /usr/local/lib/python3.10/dist-packages (from tensorflow==2.15.0) (1.6.3)\n",
            "Requirement already satisfied: flatbuffers>=23.5.26 in /usr/local/lib/python3.10/dist-packages (from tensorflow==2.15.0) (24.3.25)\n",
            "Requirement already satisfied: gast!=0.5.0,!=0.5.1,!=0.5.2,>=0.2.1 in /usr/local/lib/python3.10/dist-packages (from tensorflow==2.15.0) (0.6.0)\n",
            "Requirement already satisfied: google-pasta>=0.1.1 in /usr/local/lib/python3.10/dist-packages (from tensorflow==2.15.0) (0.2.0)\n",
            "Requirement already satisfied: h5py>=2.9.0 in /usr/local/lib/python3.10/dist-packages (from tensorflow==2.15.0) (3.11.0)\n",
            "Requirement already satisfied: libclang>=13.0.0 in /usr/local/lib/python3.10/dist-packages (from tensorflow==2.15.0) (18.1.1)\n",
            "Requirement already satisfied: ml-dtypes~=0.2.0 in /usr/local/lib/python3.10/dist-packages (from tensorflow==2.15.0) (0.2.0)\n",
            "Requirement already satisfied: numpy<2.0.0,>=1.23.5 in /usr/local/lib/python3.10/dist-packages (from tensorflow==2.15.0) (1.26.4)\n",
            "Requirement already satisfied: opt-einsum>=2.3.2 in /usr/local/lib/python3.10/dist-packages (from tensorflow==2.15.0) (3.3.0)\n",
            "Requirement already satisfied: packaging in /usr/local/lib/python3.10/dist-packages (from tensorflow==2.15.0) (24.1)\n",
            "Requirement already satisfied: protobuf!=4.21.0,!=4.21.1,!=4.21.2,!=4.21.3,!=4.21.4,!=4.21.5,<5.0.0dev,>=3.20.3 in /usr/local/lib/python3.10/dist-packages (from tensorflow==2.15.0) (3.20.3)\n",
            "Requirement already satisfied: setuptools in /usr/local/lib/python3.10/dist-packages (from tensorflow==2.15.0) (71.0.4)\n",
            "Requirement already satisfied: six>=1.12.0 in /usr/local/lib/python3.10/dist-packages (from tensorflow==2.15.0) (1.16.0)\n",
            "Requirement already satisfied: termcolor>=1.1.0 in /usr/local/lib/python3.10/dist-packages (from tensorflow==2.15.0) (2.4.0)\n",
            "Requirement already satisfied: typing-extensions>=3.6.6 in /usr/local/lib/python3.10/dist-packages (from tensorflow==2.15.0) (4.12.2)\n",
            "Requirement already satisfied: wrapt<1.15,>=1.11.0 in /usr/local/lib/python3.10/dist-packages (from tensorflow==2.15.0) (1.14.1)\n",
            "Requirement already satisfied: tensorflow-io-gcs-filesystem>=0.23.1 in /usr/local/lib/python3.10/dist-packages (from tensorflow==2.15.0) (0.37.1)\n",
            "Requirement already satisfied: grpcio<2.0,>=1.24.3 in /usr/local/lib/python3.10/dist-packages (from tensorflow==2.15.0) (1.64.1)\n",
            "Requirement already satisfied: tensorboard<2.16,>=2.15 in /usr/local/lib/python3.10/dist-packages (from tensorflow==2.15.0) (2.15.2)\n",
            "Requirement already satisfied: tensorflow-estimator<2.16,>=2.15.0 in /usr/local/lib/python3.10/dist-packages (from tensorflow==2.15.0) (2.15.0)\n",
            "Requirement already satisfied: keras<2.16,>=2.15.0 in /usr/local/lib/python3.10/dist-packages (from tensorflow==2.15.0) (2.15.0)\n",
            "Requirement already satisfied: wheel<1.0,>=0.23.0 in /usr/local/lib/python3.10/dist-packages (from astunparse>=1.6.0->tensorflow==2.15.0) (0.44.0)\n",
            "Requirement already satisfied: google-auth<3,>=1.6.3 in /usr/local/lib/python3.10/dist-packages (from tensorboard<2.16,>=2.15->tensorflow==2.15.0) (2.27.0)\n",
            "Requirement already satisfied: google-auth-oauthlib<2,>=0.5 in /usr/local/lib/python3.10/dist-packages (from tensorboard<2.16,>=2.15->tensorflow==2.15.0) (1.2.1)\n",
            "Requirement already satisfied: markdown>=2.6.8 in /usr/local/lib/python3.10/dist-packages (from tensorboard<2.16,>=2.15->tensorflow==2.15.0) (3.7)\n",
            "Requirement already satisfied: requests<3,>=2.21.0 in /usr/local/lib/python3.10/dist-packages (from tensorboard<2.16,>=2.15->tensorflow==2.15.0) (2.32.3)\n",
            "Requirement already satisfied: tensorboard-data-server<0.8.0,>=0.7.0 in /usr/local/lib/python3.10/dist-packages (from tensorboard<2.16,>=2.15->tensorflow==2.15.0) (0.7.2)\n",
            "Requirement already satisfied: werkzeug>=1.0.1 in /usr/local/lib/python3.10/dist-packages (from tensorboard<2.16,>=2.15->tensorflow==2.15.0) (3.0.4)\n",
            "Requirement already satisfied: cachetools<6.0,>=2.0.0 in /usr/local/lib/python3.10/dist-packages (from google-auth<3,>=1.6.3->tensorboard<2.16,>=2.15->tensorflow==2.15.0) (5.5.0)\n",
            "Requirement already satisfied: pyasn1-modules>=0.2.1 in /usr/local/lib/python3.10/dist-packages (from google-auth<3,>=1.6.3->tensorboard<2.16,>=2.15->tensorflow==2.15.0) (0.4.0)\n",
            "Requirement already satisfied: rsa<5,>=3.1.4 in /usr/local/lib/python3.10/dist-packages (from google-auth<3,>=1.6.3->tensorboard<2.16,>=2.15->tensorflow==2.15.0) (4.9)\n",
            "Requirement already satisfied: requests-oauthlib>=0.7.0 in /usr/local/lib/python3.10/dist-packages (from google-auth-oauthlib<2,>=0.5->tensorboard<2.16,>=2.15->tensorflow==2.15.0) (1.3.1)\n",
            "Requirement already satisfied: charset-normalizer<4,>=2 in /usr/local/lib/python3.10/dist-packages (from requests<3,>=2.21.0->tensorboard<2.16,>=2.15->tensorflow==2.15.0) (3.3.2)\n",
            "Requirement already satisfied: idna<4,>=2.5 in /usr/local/lib/python3.10/dist-packages (from requests<3,>=2.21.0->tensorboard<2.16,>=2.15->tensorflow==2.15.0) (3.8)\n",
            "Requirement already satisfied: urllib3<3,>=1.21.1 in /usr/local/lib/python3.10/dist-packages (from requests<3,>=2.21.0->tensorboard<2.16,>=2.15->tensorflow==2.15.0) (2.0.7)\n",
            "Requirement already satisfied: certifi>=2017.4.17 in /usr/local/lib/python3.10/dist-packages (from requests<3,>=2.21.0->tensorboard<2.16,>=2.15->tensorflow==2.15.0) (2024.8.30)\n",
            "Requirement already satisfied: MarkupSafe>=2.1.1 in /usr/local/lib/python3.10/dist-packages (from werkzeug>=1.0.1->tensorboard<2.16,>=2.15->tensorflow==2.15.0) (2.1.5)\n",
            "Requirement already satisfied: pyasn1<0.7.0,>=0.4.6 in /usr/local/lib/python3.10/dist-packages (from pyasn1-modules>=0.2.1->google-auth<3,>=1.6.3->tensorboard<2.16,>=2.15->tensorflow==2.15.0) (0.6.0)\n",
            "Requirement already satisfied: oauthlib>=3.0.0 in /usr/local/lib/python3.10/dist-packages (from requests-oauthlib>=0.7.0->google-auth-oauthlib<2,>=0.5->tensorboard<2.16,>=2.15->tensorflow==2.15.0) (3.2.2)\n",
            "2.15.0\n"
          ]
        }
      ]
    },
    {
      "cell_type": "markdown",
      "metadata": {
        "id": "dwG95hLURSGj"
      },
      "source": [
        "# Montando nuestro Google Drive para guardar/cargar nuestros resultados"
      ]
    },
    {
      "cell_type": "code",
      "execution_count": 3,
      "metadata": {
        "id": "g7sByyqKRae5",
        "colab": {
          "base_uri": "https://localhost:8080/"
        },
        "outputId": "495ea9bc-ce17-4af9-b0c2-2e97a5483d12"
      },
      "outputs": [
        {
          "output_type": "stream",
          "name": "stdout",
          "text": [
            "Drive already mounted at /content/gdrive; to attempt to forcibly remount, call drive.mount(\"/content/gdrive\", force_remount=True).\n"
          ]
        }
      ],
      "source": [
        "#--------------------------\n",
        "MOUNT_GOOGLE_DRIVE = True\n",
        "#--------------------------\n",
        "\n",
        "if(MOUNT_GOOGLE_DRIVE==True):\n",
        "  from google.colab import drive\n",
        "  drive.mount('/content/gdrive')\n",
        "  # Note, the default path will be: '/content/gdrive/MyDrive/'\n",
        "  # In my case, the final path will be: '/content/gdrive/MyDrive/M09-P01/' as I\n",
        "  # created a '/M09-P01/' folder in my google drive for this purpose."
      ]
    },
    {
      "cell_type": "markdown",
      "source": [
        "# Cargando el modelo y los datos preprocesados desde Drive"
      ],
      "metadata": {
        "id": "YztHVxmckNEz"
      }
    },
    {
      "cell_type": "code",
      "source": [
        "import numpy as np\n",
        "import tensorflow as tf\n",
        "\n",
        "with open('/content/gdrive/MyDrive/M09-P01/train.npy', 'rb') as f:\n",
        "  X_train = np.load(f)\n",
        "  Y_train = np.load(f)\n",
        "  M_train = np.load(f)\n",
        "with open('/content/gdrive/MyDrive/M09-P01/valid.npy', 'rb') as f:\n",
        "  X_valid = np.load(f)\n",
        "  Y_valid = np.load(f)\n",
        "  M_valid = np.load(f)\n",
        "with open('/content/gdrive/MyDrive/M09-P01/test.npy', 'rb') as f:\n",
        "  X_test = np.load(f)\n",
        "  Y_test = np.load(f)\n",
        "  M_test = np.load(f)\n",
        "\n",
        "model = tf.keras.models.load_model('/content/gdrive/MyDrive/M09-P01/init_model.h5')\n",
        "\n",
        "\n",
        "##############################################################\n",
        "# creating a newly initialized model to train from scratch\n",
        "#\n",
        "model_from_scratch = tf.keras.models.clone_model(model)\n",
        "#\n",
        "##############################################################"
      ],
      "metadata": {
        "id": "thG5tblfkR-O",
        "colab": {
          "base_uri": "https://localhost:8080/"
        },
        "outputId": "d8aa0351-db71-4006-c9a2-e8fe624213d4"
      },
      "execution_count": 4,
      "outputs": [
        {
          "output_type": "stream",
          "name": "stderr",
          "text": [
            "WARNING:tensorflow:No training configuration found in the save file, so the model was *not* compiled. Compile it manually.\n"
          ]
        }
      ]
    },
    {
      "cell_type": "markdown",
      "source": [
        "# **Entrenando la red desde cero**\n",
        "- El entrenamiento desde cero significa que **los pesos de la red se inicializan aleatoriamente**. Es decir, estamos usando una ResNet como arquitectura principal (o, como se dice, \"backbone\"), pero **no estamos haciendo ningún aprendizaje por transferencia**.\n",
        "- A continuación, definimos el **optimizador**, la **función de pérdida**, las **métricas**, y construimos e iniciamos el **ciclo de entrenamiento** utilizando la función \"fit\".\n",
        "- Por último, evaluamos el modelo en el conjunto de prueba y guardamos el historial y el mejor modelo en nuestro Goodl Drive.\n",
        " - Usamos el **error cuadrático medio (MSE) como función de pérdida** ('loss=tf.keras.losses.MeanSquaredError()'). El código también evalúa el error absoluto medio (MAE) durante el entrenamiento ('metrics=['mae']'). **La tasa de aprendizaje** se establece en 'learning_rate=1e-4', el **tamaño del lote** (batch size) = 32, y el modelo se entrenará durante 20 **epochs** (si Colab lo permite en función de los recursos disponibles).\n",
        " - El código está configurado para **guardar el mejor modelo** (save_best_only=True) **basado en \"valid_loss\"** (monitor='val_loss'). Es decir, si la pérdida de validación disminuye, en comparación con el modelo guardado anteriormente, se guarda un nuevo modelo en la ruta que hemos definimos.\n",
        " - Utilizamos **early stopping para evitar el sobreajuste**. Es decir, el modelo dejará de entrenarse si no se observa ninguna mejora en los últimos N=5 *epochs*. SE PARA EN EL EPOCH 40, LA PRIMERA VEZ SE HABÍA PARADO EN EL 46\n",
        "\n"
      ],
      "metadata": {
        "id": "Cv7WKbyutCnz"
      }
    },
    {
      "cell_type": "code",
      "source": [
        "  import pickle\n",
        "\n",
        "  # defining the early stopping criteria\n",
        "  es = tf.keras.callbacks.EarlyStopping(monitor='val_loss', mode='min', verbose=1, patience=5)\n",
        "  # saving the best model based on val_loss\n",
        "  mc = tf.keras.callbacks.ModelCheckpoint('/content/gdrive/MyDrive/M09-P01/best_model_from_scratch.h5', monitor='val_loss', mode='min', save_best_only=True)\n",
        "\n",
        "  # defining the optimizer\n",
        "  model_from_scratch.compile(tf.keras.optimizers.Adam(learning_rate=1e-3),loss=tf.keras.losses.MeanSquaredError(),metrics=['mae'])\n",
        "\n",
        "  # training the model\n",
        "  history = model_from_scratch.fit(X_train, Y_train, validation_data=(X_valid, Y_valid), batch_size=32, epochs=50, shuffle=True, verbose=1, callbacks=[es,mc])\n",
        "\n",
        "  # saving training history (for future visualization)\n",
        "  with open('/content/gdrive/MyDrive/M09-P01/train_history_from_scratch.pkl', 'wb') as handle:\n",
        "    pickle.dump(history.history, handle, protocol=pickle.HIGHEST_PROTOCOL)"
      ],
      "metadata": {
        "id": "OiVwGQ5qApyk",
        "colab": {
          "base_uri": "https://localhost:8080/"
        },
        "outputId": "f958f531-6227-4a1d-a3ac-6c1f070c25b8"
      },
      "execution_count": 5,
      "outputs": [
        {
          "output_type": "stream",
          "name": "stdout",
          "text": [
            "Epoch 1/50\n",
            "94/94 [==============================] - ETA: 0s - loss: 1.0811 - mae: 0.1567"
          ]
        },
        {
          "output_type": "stream",
          "name": "stderr",
          "text": [
            "/usr/local/lib/python3.10/dist-packages/keras/src/engine/training.py:3103: UserWarning: You are saving your model as an HDF5 file via `model.save()`. This file format is considered legacy. We recommend using instead the native Keras format, e.g. `model.save('my_model.keras')`.\n",
            "  saving_api.save_model(\n"
          ]
        },
        {
          "output_type": "stream",
          "name": "stdout",
          "text": [
            "\b\b\b\b\b\b\b\b\b\b\b\b\b\b\b\b\b\b\b\b\b\b\b\b\b\b\b\b\b\b\b\b\b\b\b\b\b\b\b\b\b\b\b\b\b\b\b\b\b\b\b\b\b\b\b\b\b\b\b\b\b\b\b\b\b\b\b\b\b\b\b\b\b\b\b\b\b\r94/94 [==============================] - 79s 459ms/step - loss: 1.0811 - mae: 0.1567 - val_loss: 0.7565 - val_mae: 0.1362\n",
            "Epoch 2/50\n",
            "94/94 [==============================] - 46s 489ms/step - loss: 0.5957 - mae: 0.1353 - val_loss: 0.4612 - val_mae: 0.1152\n",
            "Epoch 3/50\n",
            "94/94 [==============================] - 47s 500ms/step - loss: 0.3864 - mae: 0.1233 - val_loss: 0.3206 - val_mae: 0.1170\n",
            "Epoch 4/50\n",
            "94/94 [==============================] - 44s 466ms/step - loss: 0.2783 - mae: 0.1217 - val_loss: 0.2382 - val_mae: 0.1101\n",
            "Epoch 5/50\n",
            "94/94 [==============================] - 41s 433ms/step - loss: 0.2158 - mae: 0.1190 - val_loss: 0.2007 - val_mae: 0.1423\n",
            "Epoch 6/50\n",
            "94/94 [==============================] - 49s 519ms/step - loss: 0.1814 - mae: 0.1196 - val_loss: 0.1661 - val_mae: 0.1265\n",
            "Epoch 7/50\n",
            "94/94 [==============================] - 51s 548ms/step - loss: 0.1508 - mae: 0.1160 - val_loss: 0.1438 - val_mae: 0.1390\n",
            "Epoch 8/50\n",
            "94/94 [==============================] - 51s 545ms/step - loss: 0.1324 - mae: 0.1175 - val_loss: 0.1269 - val_mae: 0.1381\n",
            "Epoch 9/50\n",
            "94/94 [==============================] - 30s 324ms/step - loss: 0.1221 - mae: 0.1217 - val_loss: 0.1928 - val_mae: 0.2713\n",
            "Epoch 10/50\n",
            "94/94 [==============================] - 51s 548ms/step - loss: 0.1052 - mae: 0.1184 - val_loss: 0.0984 - val_mae: 0.1316\n",
            "Epoch 11/50\n",
            "94/94 [==============================] - 51s 546ms/step - loss: 0.0903 - mae: 0.1156 - val_loss: 0.0855 - val_mae: 0.1215\n",
            "Epoch 12/50\n",
            "94/94 [==============================] - 47s 505ms/step - loss: 0.0815 - mae: 0.1169 - val_loss: 0.0770 - val_mae: 0.1209\n",
            "Epoch 13/50\n",
            "94/94 [==============================] - 31s 325ms/step - loss: 0.0738 - mae: 0.1151 - val_loss: 0.0795 - val_mae: 0.1395\n",
            "Epoch 14/50\n",
            "94/94 [==============================] - 51s 547ms/step - loss: 0.0671 - mae: 0.1138 - val_loss: 0.0631 - val_mae: 0.1111\n",
            "Epoch 15/50\n",
            "94/94 [==============================] - 31s 325ms/step - loss: 0.0624 - mae: 0.1117 - val_loss: 0.0671 - val_mae: 0.1353\n",
            "Epoch 16/50\n",
            "94/94 [==============================] - 52s 558ms/step - loss: 0.0596 - mae: 0.1134 - val_loss: 0.0571 - val_mae: 0.1108\n",
            "Epoch 17/50\n",
            "94/94 [==============================] - 31s 325ms/step - loss: 0.0569 - mae: 0.1153 - val_loss: 0.0586 - val_mae: 0.1311\n",
            "Epoch 18/50\n",
            "94/94 [==============================] - 48s 516ms/step - loss: 0.0562 - mae: 0.1151 - val_loss: 0.0535 - val_mae: 0.1219\n",
            "Epoch 19/50\n",
            "94/94 [==============================] - 51s 550ms/step - loss: 0.0520 - mae: 0.1153 - val_loss: 0.0481 - val_mae: 0.1171\n",
            "Epoch 20/50\n",
            "94/94 [==============================] - 47s 500ms/step - loss: 0.0456 - mae: 0.1129 - val_loss: 0.0454 - val_mae: 0.1219\n",
            "Epoch 21/50\n",
            "94/94 [==============================] - 31s 325ms/step - loss: 0.0480 - mae: 0.1152 - val_loss: 0.1334 - val_mae: 0.2924\n",
            "Epoch 22/50\n",
            "94/94 [==============================] - 47s 505ms/step - loss: 0.0449 - mae: 0.1141 - val_loss: 0.0451 - val_mae: 0.1269\n",
            "Epoch 23/50\n",
            "94/94 [==============================] - 43s 460ms/step - loss: 0.0451 - mae: 0.1171 - val_loss: 0.0412 - val_mae: 0.1125\n",
            "Epoch 24/50\n",
            "94/94 [==============================] - 31s 326ms/step - loss: 0.0418 - mae: 0.1172 - val_loss: 0.0431 - val_mae: 0.1272\n",
            "Epoch 25/50\n",
            "94/94 [==============================] - 47s 502ms/step - loss: 0.0417 - mae: 0.1164 - val_loss: 0.0400 - val_mae: 0.1163\n",
            "Epoch 26/50\n",
            "94/94 [==============================] - 31s 328ms/step - loss: 0.0400 - mae: 0.1157 - val_loss: 0.0410 - val_mae: 0.1169\n",
            "Epoch 27/50\n",
            "94/94 [==============================] - 58s 616ms/step - loss: 0.0403 - mae: 0.1163 - val_loss: 0.0386 - val_mae: 0.1228\n",
            "Epoch 28/50\n",
            "94/94 [==============================] - 33s 354ms/step - loss: 0.0401 - mae: 0.1161 - val_loss: 0.0407 - val_mae: 0.1167\n",
            "Epoch 29/50\n",
            "94/94 [==============================] - 31s 326ms/step - loss: 0.0381 - mae: 0.1152 - val_loss: 0.0968 - val_mae: 0.2330\n",
            "Epoch 30/50\n",
            "94/94 [==============================] - 31s 328ms/step - loss: 0.0364 - mae: 0.1129 - val_loss: 0.0513 - val_mae: 0.1506\n",
            "Epoch 31/50\n",
            "94/94 [==============================] - 54s 582ms/step - loss: 0.0386 - mae: 0.1153 - val_loss: 0.0330 - val_mae: 0.1136\n",
            "Epoch 32/50\n",
            "94/94 [==============================] - 31s 329ms/step - loss: 0.0361 - mae: 0.1156 - val_loss: 0.0340 - val_mae: 0.1162\n",
            "Epoch 33/50\n",
            "94/94 [==============================] - 31s 329ms/step - loss: 0.0347 - mae: 0.1164 - val_loss: 0.0356 - val_mae: 0.1147\n",
            "Epoch 34/50\n",
            "94/94 [==============================] - 34s 357ms/step - loss: 0.0340 - mae: 0.1164 - val_loss: 0.0403 - val_mae: 0.1257\n",
            "Epoch 35/50\n",
            "94/94 [==============================] - 56s 599ms/step - loss: 0.0319 - mae: 0.1158 - val_loss: 0.0302 - val_mae: 0.1134\n",
            "Epoch 36/50\n",
            "94/94 [==============================] - 31s 326ms/step - loss: 0.0329 - mae: 0.1156 - val_loss: 0.0321 - val_mae: 0.1199\n",
            "Epoch 37/50\n",
            "94/94 [==============================] - 31s 329ms/step - loss: 0.0339 - mae: 0.1156 - val_loss: 0.0326 - val_mae: 0.1219\n",
            "Epoch 38/50\n",
            "94/94 [==============================] - 31s 331ms/step - loss: 0.0336 - mae: 0.1159 - val_loss: 0.0433 - val_mae: 0.1387\n",
            "Epoch 39/50\n",
            "94/94 [==============================] - 31s 329ms/step - loss: 0.0337 - mae: 0.1166 - val_loss: 0.0334 - val_mae: 0.1176\n",
            "Epoch 40/50\n",
            "94/94 [==============================] - 31s 329ms/step - loss: 0.0300 - mae: 0.1152 - val_loss: 0.0691 - val_mae: 0.1870\n",
            "Epoch 40: early stopping\n"
          ]
        }
      ]
    },
    {
      "cell_type": "markdown",
      "source": [
        "# Visualizando la curva de entrenamiento (EN CADA ENTRENAMIENTO EL TRAZADO ES DIFERENTE)"
      ],
      "metadata": {
        "id": "lW2q64JpV48O"
      }
    },
    {
      "cell_type": "code",
      "source": [
        "from matplotlib import pyplot as plt\n",
        "\n",
        "# here, it loads the history of the model you trained before\n",
        "train_hist = pickle.load(open('/content/gdrive/MyDrive/M09-P01/train_history_from_scratch.pkl',\"rb\"))\n",
        "\n",
        "# we plot both, the LOSS and MAE\n",
        "fig, (ax1, ax2) = plt.subplots(1, 2, figsize=(15, 4))\n",
        "fig.suptitle('Training history (from scratch)', fontsize=14, fontweight='bold')\n",
        "\n",
        "ax1.plot(train_hist['loss'])\n",
        "ax1.plot(train_hist['val_loss'])\n",
        "ax1.set(xlabel='epoch', ylabel='LOSS')\n",
        "ax1.legend(['train', 'valid'], loc='upper right')\n",
        "\n",
        "ax2.plot(train_hist['mae'])\n",
        "ax2.plot(train_hist['val_mae'])\n",
        "ax2.set(xlabel='epoch', ylabel='MAE')\n",
        "ax2.legend(['train', 'valid'], loc='upper right')"
      ],
      "metadata": {
        "id": "DRieTsQLx_v9",
        "colab": {
          "base_uri": "https://localhost:8080/",
          "height": 445
        },
        "outputId": "5b1890cd-ace1-42ea-fca9-45b38c066095"
      },
      "execution_count": 6,
      "outputs": [
        {
          "output_type": "execute_result",
          "data": {
            "text/plain": [
              "<matplotlib.legend.Legend at 0x79503e4e7910>"
            ]
          },
          "metadata": {},
          "execution_count": 6
        },
        {
          "output_type": "display_data",
          "data": {
            "text/plain": [
              "<Figure size 1500x400 with 2 Axes>"
            ],
            "image/png": "[encoded data removed]"
          },
          "metadata": {}
        }
      ]
    },
    {
      "cell_type": "markdown",
      "source": [
        "# Evaluando el modelo entrenado en el conjunto de prueba"
      ],
      "metadata": {
        "id": "HN_xG5uWV8g6"
      }
    },
    {
      "cell_type": "code",
      "source": [
        "# loading the (best) saved model\n",
        "model_from_scratch = tf.keras.models.load_model('/content/gdrive/MyDrive/M09-P01/best_model_from_scratch.h5')\n",
        "\n",
        "# Evaluate the trained model on the test set\n",
        "print('Evaluating on the test set')\n",
        "predictions = model_from_scratch.predict(X_test, batch_size=32, verbose=1)\n",
        "\n",
        "# Computing the Mean Absolute Error\n",
        "# Also re-scaling the values to the range of \"age\" as the are in the range of [0,1]\n",
        "mae = np.mean(abs(predictions[:,0] - Y_test)*100)\n",
        "\n",
        "# Next, we print the average error. Note that the error is rescaled back to the range [0-100]\n",
        "print('\\nThe final mean absolute error (on the Test set)  is ' + str(mae) + ' years old.')\n",
        "\n",
        "#Evaluating on the test set\n",
        "#32/32 [==============================] - 3s 76ms/step\n",
        "#The final mean absolute error (on the Test set)  is 13.676926054220425 years old.\n"
      ],
      "metadata": {
        "id": "8feKizYZgSvT",
        "colab": {
          "base_uri": "https://localhost:8080/"
        },
        "outputId": "a0aa22c0-7bbf-41db-f9bc-b6db48956e69"
      },
      "execution_count": 7,
      "outputs": [
        {
          "output_type": "stream",
          "name": "stdout",
          "text": [
            "Evaluating on the test set\n",
            "32/32 [==============================] - 3s 76ms/step\n",
            "\n",
            "The final mean absolute error (on the Test set)  is 13.676926054220425 years old.\n"
          ]
        }
      ]
    },
    {
      "cell_type": "markdown",
      "source": [
        "# Imprimiendo algunas predicciones generadas"
      ],
      "metadata": {
        "id": "U1n5wZl8WK_U"
      }
    },
    {
      "cell_type": "code",
      "source": [
        "# printing some predictions and re-scaling the predicted values to the \"age\" range,\n",
        "# using the normalization factor defined earlier, as the values are in\n",
        "# the range of [0,1]\n",
        "for i in range(0,10):\n",
        "  print('predicted age = %.3f - Ground truth = %.3f' %(predictions[i]*100, Y_test[i]*100))"
      ],
      "metadata": {
        "id": "DJJB8bfxWPD_",
        "colab": {
          "base_uri": "https://localhost:8080/"
        },
        "outputId": "104fd49d-14c5-4d87-b552-5535b3ac4e8d"
      },
      "execution_count": 8,
      "outputs": [
        {
          "output_type": "stream",
          "name": "stdout",
          "text": [
            "predicted age = 32.361 - Ground truth = 62.351\n",
            "predicted age = 22.168 - Ground truth = 49.974\n",
            "predicted age = 29.223 - Ground truth = 38.189\n",
            "predicted age = 31.111 - Ground truth = 36.795\n",
            "predicted age = 30.973 - Ground truth = 44.297\n",
            "predicted age = 32.334 - Ground truth = 40.744\n",
            "predicted age = 32.017 - Ground truth = 71.263\n",
            "predicted age = 30.966 - Ground truth = 18.237\n",
            "predicted age = 30.406 - Ground truth = 4.026\n",
            "predicted age = 33.313 - Ground truth = 66.263\n"
          ]
        },
        {
          "output_type": "stream",
          "name": "stderr",
          "text": [
            "<ipython-input-8-0690d8d84d84>:5: DeprecationWarning: Conversion of an array with ndim > 0 to a scalar is deprecated, and will error in future. Ensure you extract a single element from your array before performing this operation. (Deprecated NumPy 1.25.)\n",
            "  print('predicted age = %.3f - Ground truth = %.3f' %(predictions[i]*100, Y_test[i]*100))\n"
          ]
        }
      ]
    },
    {
      "cell_type": "markdown",
      "source": [
        "Posibles causas del mal rendimiento del modelo\n",
        "Modelo subentrenado o arquitectura inadecuada:\n",
        "\n",
        "Podría ser que tu modelo no tenga suficiente capacidad (es decir, no tiene suficientes neuronas o capas) para aprender adecuadamente las relaciones entre las características de entrada y la edad objetivo.\n",
        "Asegúrate de que el modelo sea lo suficientemente complejo para el problema que estás tratando de resolver. Si es un modelo demasiado simple, podrías necesitar agregar más capas o neuronas.\n",
        "Insuficiente cantidad de épocas o interrupción del entrenamiento:\n",
        "\n",
        "Si el entrenamiento se interrumpió antes de que el modelo pudiera aprender adecuadamente, los resultados estarán lejos de ser óptimos. Asegúrate de que tu modelo tenga tiempo suficiente para entrenarse de manera adecuada.\n",
        "Puedes revisar las curvas de pérdida (loss) en entrenamiento y validación para ver si el modelo ha dejado de mejorar. Si la pérdida todavía estaba mejorando, podrías necesitar entrenar más.\n",
        "Problemas con los datos:\n",
        "\n",
        "Asegúrate de que los datos estén correctamente escalados o normalizados. Si las características de entrada están en rangos muy diferentes, el modelo puede tener dificultades para aprender relaciones significativas.\n",
        "Verifica que los datos de entrenamiento y prueba estén bien distribuidos. Si el modelo está entrenado solo con un subconjunto limitado de edades, puede tener dificultades para generalizar a edades que no ha visto.\n",
        "Sobreajuste (overfitting):\n",
        "\n",
        "Es posible que el modelo esté sobreajustado al conjunto de entrenamiento, especialmente si las predicciones están agrupadas en un rango pequeño. Esto sucede cuando el modelo aprende demasiado bien los datos de entrenamiento pero no generaliza a los datos de prueba.\n",
        "Si sospechas que este es el caso, podrías probar con técnicas de regularización como Dropout o L2 regularization.\n",
        "Posibles soluciones\n",
        "Revisar el entrenamiento:\n",
        "\n",
        "Asegúrate de que el modelo ha entrenado durante un número suficiente de épocas. Si usaste early stopping, revisa si detuvo el entrenamiento demasiado pronto.\n",
        "Revisa las curvas de entrenamiento (pérdida y métricas) para detectar problemas como el sobreajuste o subentrenamiento.\n",
        "Ajuste del modelo:\n",
        "\n",
        "Si el modelo es demasiado simple, considera agregar más capas o aumentar el número de neuronas.\n",
        "Intenta ajustar el tasa de aprendizaje (learning rate). A veces, un valor inapropiado puede hacer que el modelo no aprenda de manera efectiva.\n",
        "Revisar los datos:\n",
        "\n",
        "Asegúrate de que los datos de entrada estén normalizados correctamente.\n",
        "Revisa si hay algún sesgo en los datos, como conjuntos de edades que podrían estar infrarepresentados.\n",
        "Probar con más regularización:\n",
        "\n",
        "Si crees que el modelo está sobreajustado, puedes añadir Dropout o regularización L2 para mejorar la generalización.\n",
        "Mejorando las predicciones\n",
        "Si el entrenamiento y los datos están en orden, pero las predicciones siguen siendo incorrectas, prueba ajustar los hiperparámetros del modelo o cambiar la arquitectura. También puedes usar técnicas como cross-validation para verificar cómo se desempeña el modelo en diferentes subconjuntos del conjunto de datos."
      ],
      "metadata": {
        "id": "H5UQ1R-db6FZ"
      }
    }
  ],
  "metadata": {
    "colab": {
      "provenance": [],
      "gpuType": "T4",
      "include_colab_link": true
    },
    "kernelspec": {
      "display_name": "Python 3",
      "name": "python3"
    },
    "language_info": {
      "codemirror_mode": {
        "name": "ipython",
        "version": 3
      },
      "file_extension": ".py",
      "mimetype": "text/x-python",
      "name": "python",
      "nbconvert_exporter": "python",
      "pygments_lexer": "ipython3",
      "version": "3.6.3"
    },
    "accelerator": "GPU"
  },
  "nbformat": 4,
  "nbformat_minor": 0
}