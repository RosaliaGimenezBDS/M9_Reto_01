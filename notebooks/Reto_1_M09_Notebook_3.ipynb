{
  "cells": [
    {
      "cell_type": "markdown",
      "metadata": {
        "id": "view-in-github",
        "colab_type": "text"
      },
      "source": [
        "<a href=\"https://colab.research.google.com/github/RosaliaGimenezBDS/M9_Reto_01/blob/main/Reto_1_M09_Notebook_3.ipynb\" target=\"_parent\"><img src=\"https://colab.research.google.com/assets/colab-badge.svg\" alt=\"Open In Colab\"/></a>"
      ]
    },
    {
      "cell_type": "markdown",
      "metadata": {
        "id": "dG2MLbQvZy9h"
      },
      "source": [
        "# **Máster en Behavioral Data Science**\n",
        "## **Instituto de Formación Continua (IL3) - Universitat de Barcelona**\n",
        "## **Módulo 9: Aprendizaje Profundo - Reto 1** - (Notebook 3/5)\n",
        "Autores: **Meysam Madadi** & **Julio C. S. Jacques Junior**\n",
        "\n",
        "---"
      ]
    },
    {
      "cell_type": "markdown",
      "source": [
        "# **Prerrequisitos**\n",
        "- Consultar las instrucciones en los *Jupyter notebooks* anteriores.\n",
        "- Ejecutar los *Jupyter notebooks* anteriores, en este caso:\n",
        " - *Jupyter notebook* 1.\n",
        " - *Jupyter notebook* 2."
      ],
      "metadata": {
        "id": "Na__8gDC3xWH"
      }
    },
    {
      "cell_type": "markdown",
      "source": [
        "# **Los objetivos de este Jupyter notebook**\n",
        "- Practicar con **transfer learning** (aprendizaje por transferencia);\n",
        "- Definir una **estrategia de entrenamiento**:\n",
        " - **Etapa 1:** Primero, entrenaremos nuestra \"cabeza de regresión\" (*regression head*). Para ello, \"congelaremos\" las capas de nuestro *backbone* (ResNet50) y entrenaremos solo las capas que hemos añadido al modelo. Esta etapa será más rápida que la siguiente, ya que solo se entrenan unas pocas capas.\n",
        "\n",
        " - **Etapa 2:** Luego, entrenaremos toda la red. Es decir, estableceremos todas las capas como \"entrenables\" para que los pesos de nuestro *backbone* también se puedan optimizar, junto con la \"cabeza de regresión\".\n",
        " - Finalmente, visualizamos la tendencia del entrenamiento de ambas etapas.\n",
        "---"
      ],
      "metadata": {
        "id": "QAav_T-p4FfD"
      }
    },
    {
      "cell_type": "markdown",
      "source": [
        "## Comprobando la versión de tensorflow\n",
        "\n",
        "\n",
        "Otra posible solución parece ser seguir utilizando la versión 2.17.0 de tensorflow, haciendo el siguiente cambio en los códigos:\n",
        "\n",
        "1. Al principio de cada Notebook, añadir el import de tf_keras:\n",
        "import tensorflow as tf\n",
        "import tf_keras\n",
        "\n",
        "2. Luego, cada vez que encontréis \"tf.keras\", reemplazadlo por \"tf_keras\". Por ejemplo:\n",
        "\n",
        "#model = tf.keras.models.load_model('/content/gdrive/MyDrive/M09-P01/init_model.h5')\n",
        "model = tf_keras.models.load_model('/content/gdrive/MyDrive/M09-P01/init_model.h5')"
      ],
      "metadata": {
        "id": "an3PhZHd6oEz"
      }
    },
    {
      "cell_type": "code",
      "source": [
        "# Este código fue probado en tensorflow 2.15.0 pero lo pasamos a 2.17 con algunos cambios en el código\n",
        "#!pip install tensorflow==2.15.0\n",
        "!pip install --upgrade tensorflow keras\n",
        "\n",
        "import tensorflow as tf\n",
        "import tf_keras\n",
        "\n",
        "print(tf.__version__)"
      ],
      "metadata": {
        "id": "WV2u_hTnYxJX",
        "colab": {
          "base_uri": "https://localhost:8080/"
        },
        "outputId": "5f1cd25c-ffd4-4b7c-9b59-db0aedc43e9f"
      },
      "execution_count": 2,
      "outputs": [
        {
          "output_type": "stream",
          "name": "stdout",
          "text": [
            "Requirement already satisfied: tensorflow in /usr/local/lib/python3.10/dist-packages (2.17.0)\n",
            "Requirement already satisfied: keras in /usr/local/lib/python3.10/dist-packages (3.4.1)\n",
            "Collecting keras\n",
            "  Downloading keras-3.5.0-py3-none-any.whl.metadata (5.8 kB)\n",
            "Requirement already satisfied: absl-py>=1.0.0 in /usr/local/lib/python3.10/dist-packages (from tensorflow) (1.4.0)\n",
            "Requirement already satisfied: astunparse>=1.6.0 in /usr/local/lib/python3.10/dist-packages (from tensorflow) (1.6.3)\n",
            "Requirement already satisfied: flatbuffers>=24.3.25 in /usr/local/lib/python3.10/dist-packages (from tensorflow) (24.3.25)\n",
            "Requirement already satisfied: gast!=0.5.0,!=0.5.1,!=0.5.2,>=0.2.1 in /usr/local/lib/python3.10/dist-packages (from tensorflow) (0.6.0)\n",
            "Requirement already satisfied: google-pasta>=0.1.1 in /usr/local/lib/python3.10/dist-packages (from tensorflow) (0.2.0)\n",
            "Requirement already satisfied: h5py>=3.10.0 in /usr/local/lib/python3.10/dist-packages (from tensorflow) (3.11.0)\n",
            "Requirement already satisfied: libclang>=13.0.0 in /usr/local/lib/python3.10/dist-packages (from tensorflow) (18.1.1)\n",
            "Requirement already satisfied: ml-dtypes<0.5.0,>=0.3.1 in /usr/local/lib/python3.10/dist-packages (from tensorflow) (0.4.0)\n",
            "Requirement already satisfied: opt-einsum>=2.3.2 in /usr/local/lib/python3.10/dist-packages (from tensorflow) (3.3.0)\n",
            "Requirement already satisfied: packaging in /usr/local/lib/python3.10/dist-packages (from tensorflow) (24.1)\n",
            "Requirement already satisfied: protobuf!=4.21.0,!=4.21.1,!=4.21.2,!=4.21.3,!=4.21.4,!=4.21.5,<5.0.0dev,>=3.20.3 in /usr/local/lib/python3.10/dist-packages (from tensorflow) (3.20.3)\n",
            "Requirement already satisfied: requests<3,>=2.21.0 in /usr/local/lib/python3.10/dist-packages (from tensorflow) (2.32.3)\n",
            "Requirement already satisfied: setuptools in /usr/local/lib/python3.10/dist-packages (from tensorflow) (71.0.4)\n",
            "Requirement already satisfied: six>=1.12.0 in /usr/local/lib/python3.10/dist-packages (from tensorflow) (1.16.0)\n",
            "Requirement already satisfied: termcolor>=1.1.0 in /usr/local/lib/python3.10/dist-packages (from tensorflow) (2.4.0)\n",
            "Requirement already satisfied: typing-extensions>=3.6.6 in /usr/local/lib/python3.10/dist-packages (from tensorflow) (4.12.2)\n",
            "Requirement already satisfied: wrapt>=1.11.0 in /usr/local/lib/python3.10/dist-packages (from tensorflow) (1.16.0)\n",
            "Requirement already satisfied: grpcio<2.0,>=1.24.3 in /usr/local/lib/python3.10/dist-packages (from tensorflow) (1.64.1)\n",
            "Requirement already satisfied: tensorboard<2.18,>=2.17 in /usr/local/lib/python3.10/dist-packages (from tensorflow) (2.17.0)\n",
            "Requirement already satisfied: tensorflow-io-gcs-filesystem>=0.23.1 in /usr/local/lib/python3.10/dist-packages (from tensorflow) (0.37.1)\n",
            "Requirement already satisfied: numpy<2.0.0,>=1.23.5 in /usr/local/lib/python3.10/dist-packages (from tensorflow) (1.26.4)\n",
            "Requirement already satisfied: rich in /usr/local/lib/python3.10/dist-packages (from keras) (13.8.0)\n",
            "Requirement already satisfied: namex in /usr/local/lib/python3.10/dist-packages (from keras) (0.0.8)\n",
            "Requirement already satisfied: optree in /usr/local/lib/python3.10/dist-packages (from keras) (0.12.1)\n",
            "Requirement already satisfied: wheel<1.0,>=0.23.0 in /usr/local/lib/python3.10/dist-packages (from astunparse>=1.6.0->tensorflow) (0.44.0)\n",
            "Requirement already satisfied: charset-normalizer<4,>=2 in /usr/local/lib/python3.10/dist-packages (from requests<3,>=2.21.0->tensorflow) (3.3.2)\n",
            "Requirement already satisfied: idna<4,>=2.5 in /usr/local/lib/python3.10/dist-packages (from requests<3,>=2.21.0->tensorflow) (3.8)\n",
            "Requirement already satisfied: urllib3<3,>=1.21.1 in /usr/local/lib/python3.10/dist-packages (from requests<3,>=2.21.0->tensorflow) (2.0.7)\n",
            "Requirement already satisfied: certifi>=2017.4.17 in /usr/local/lib/python3.10/dist-packages (from requests<3,>=2.21.0->tensorflow) (2024.8.30)\n",
            "Requirement already satisfied: markdown>=2.6.8 in /usr/local/lib/python3.10/dist-packages (from tensorboard<2.18,>=2.17->tensorflow) (3.7)\n",
            "Requirement already satisfied: tensorboard-data-server<0.8.0,>=0.7.0 in /usr/local/lib/python3.10/dist-packages (from tensorboard<2.18,>=2.17->tensorflow) (0.7.2)\n",
            "Requirement already satisfied: werkzeug>=1.0.1 in /usr/local/lib/python3.10/dist-packages (from tensorboard<2.18,>=2.17->tensorflow) (3.0.4)\n",
            "Requirement already satisfied: markdown-it-py>=2.2.0 in /usr/local/lib/python3.10/dist-packages (from rich->keras) (3.0.0)\n",
            "Requirement already satisfied: pygments<3.0.0,>=2.13.0 in /usr/local/lib/python3.10/dist-packages (from rich->keras) (2.16.1)\n",
            "Requirement already satisfied: mdurl~=0.1 in /usr/local/lib/python3.10/dist-packages (from markdown-it-py>=2.2.0->rich->keras) (0.1.2)\n",
            "Requirement already satisfied: MarkupSafe>=2.1.1 in /usr/local/lib/python3.10/dist-packages (from werkzeug>=1.0.1->tensorboard<2.18,>=2.17->tensorflow) (2.1.5)\n",
            "Downloading keras-3.5.0-py3-none-any.whl (1.1 MB)\n",
            "\u001b[2K   \u001b[90m━━━━━━━━━━━━━━━━━━━━━━━━━━━━━━━━━━━━━━━━\u001b[0m \u001b[32m1.1/1.1 MB\u001b[0m \u001b[31m18.1 MB/s\u001b[0m eta \u001b[36m0:00:00\u001b[0m\n",
            "\u001b[?25hInstalling collected packages: keras\n",
            "  Attempting uninstall: keras\n",
            "    Found existing installation: keras 3.4.1\n",
            "    Uninstalling keras-3.4.1:\n",
            "      Successfully uninstalled keras-3.4.1\n",
            "Successfully installed keras-3.5.0\n",
            "2.17.0\n"
          ]
        }
      ]
    },
    {
      "cell_type": "markdown",
      "metadata": {
        "id": "dwG95hLURSGj"
      },
      "source": [
        "# Montando nuestro Google Drive para guardar/cargar nuestros resultados"
      ]
    },
    {
      "cell_type": "code",
      "execution_count": 3,
      "metadata": {
        "id": "g7sByyqKRae5",
        "colab": {
          "base_uri": "https://localhost:8080/"
        },
        "outputId": "434401d4-cf9c-4b59-f28c-6e857c4ab706"
      },
      "outputs": [
        {
          "output_type": "stream",
          "name": "stdout",
          "text": [
            "Mounted at /content/gdrive\n"
          ]
        }
      ],
      "source": [
        "#--------------------------\n",
        "MOUNT_GOOGLE_DRIVE = True\n",
        "#--------------------------\n",
        "\n",
        "if(MOUNT_GOOGLE_DRIVE==True):\n",
        "  from google.colab import drive\n",
        "  drive.mount('/content/gdrive')\n",
        "  # Note, the default path will be: '/content/gdrive/MyDrive/'\n",
        "  # In my case, the final path will be: '/content/gdrive/MyDrive/M09-P01/' as I\n",
        "  # created a '/M09-P01/' folder in my google drive for this purpose."
      ]
    },
    {
      "cell_type": "markdown",
      "source": [
        "# Cargando el modelo y los datos preprocesados desde Drive"
      ],
      "metadata": {
        "id": "YztHVxmckNEz"
      }
    },
    {
      "cell_type": "code",
      "source": [
        "import numpy as np\n",
        "import tensorflow as tf\n",
        "\n",
        "with open('/content/gdrive/MyDrive/M09-P01/train.npy', 'rb') as f:\n",
        "  X_train = np.load(f)\n",
        "  Y_train = np.load(f)\n",
        "  M_train = np.load(f)\n",
        "with open('/content/gdrive/MyDrive/M09-P01/valid.npy', 'rb') as f:\n",
        "  X_valid = np.load(f)\n",
        "  Y_valid = np.load(f)\n",
        "  M_valid = np.load(f)\n",
        "with open('/content/gdrive/MyDrive/M09-P01/test.npy', 'rb') as f:\n",
        "  X_test = np.load(f)\n",
        "  Y_test = np.load(f)\n",
        "  M_test = np.load(f)\n",
        "\n",
        "model = tf_keras.models.load_model('/content/gdrive/MyDrive/M09-P01/init_model.h5')"
      ],
      "metadata": {
        "id": "thG5tblfkR-O",
        "colab": {
          "base_uri": "https://localhost:8080/"
        },
        "outputId": "5c85b66c-43f4-4cac-9970-c21d6a66cd09"
      },
      "execution_count": 4,
      "outputs": [
        {
          "output_type": "stream",
          "name": "stderr",
          "text": [
            "WARNING:tensorflow:No training configuration found in the save file, so the model was *not* compiled. Compile it manually.\n"
          ]
        }
      ]
    },
    {
      "cell_type": "markdown",
      "source": [
        "# **Entrenando el modelo mediante un ajuste fino de la red pre-entrenada**\n",
        "- Esta es una forma muy estándar de **transferencia de aprendizaje** en la que el conocimiento se transfiere desde una red que, en general, se entrenó en un gran conjunto de datos hacia otro modelo con la misma o una arquitectura similar. En nuestro caso, la red (ResNet50) se ha entrenado en más de 3 millones de datos faciales para la tarea de reconocimiento facial. La transferencia de conocimiento se realiza inicializando los pesos de la nueva red a partir de la red preentrenada.\n",
        "- Como hemos visto anteriormente, hemos creado nuestra propia \"cabeza de regresión\" mediante la adición de algunas capas a nuestro *backbone*. En esta arquitectura, los pesos de la \"cabeza de regresión\" se inicializan con valores aleatorios.\n",
        "- Una buena práctica para entrenar esta red es primero congelar los pesos de las capas preentrenadas y optimizar los pesos de la \"cabeza de regresión\" (de la capas añadidas, inicializados con valores aleatorios). Luego, entrenar (y refinar) toda la red. Para implementar esta estrategia, realizamos el entrenamiento en dos etapas (**Etapa 1** y **Etapa 2**).\n"
      ],
      "metadata": {
        "id": "TYq4mdmyAOX1"
      }
    },
    {
      "cell_type": "markdown",
      "metadata": {
        "id": "dq_-Zh3Bt5Gx"
      },
      "source": [
        "## **Etapa 1:** Entrenando la \"cabeza de regresión\"\n",
        "- Primero, **congelamos las primeras N=174 capas** de nuestra red para permitir el ajuste fino de las últimas capas. Para esto, definimos si una capa es entrenable o no.\n",
        "- Luego, entrenamos la \"cabeza de regresión\" con un procedimiento similar al \"entrenamiento desde cero\". Es decir, el entrenamiento será similar, pero **las capas que estén congeladas no tendrán sus pesos actualizados**.\n"
      ]
    },
    {
      "cell_type": "code",
      "source": [
        "import pickle\n",
        "# freeze the first convolutional layers\n",
        "counter = 0\n",
        "for layer in model.layers:\n",
        "  if counter <= 174:\n",
        "    layer.trainable = False\n",
        "  else:\n",
        "    layer.trainable = True\n",
        "  #print(counter, layer.name, layer.trainable)\n",
        "  counter +=1\n",
        "\n",
        "#### MODEL TRAINING ####\n",
        "# defining the early stop criteria\n",
        "es = tf_keras.callbacks.EarlyStopping(monitor='val_loss', mode='min', verbose=1, patience=5)\n",
        "# saving the best model based on val_loss\n",
        "mc = tf_keras.callbacks.ModelCheckpoint('/content/gdrive/MyDrive/M09-P01/best_model_st1.h5', monitor='val_loss', mode='min', save_best_only=True)\n",
        "\n",
        "# defining the optimizer\n",
        "model.compile(tf_keras.optimizers.Adam(learning_rate=1e-4),loss=tf_keras.losses.MeanSquaredError(),metrics=['mae'])\n",
        "\n",
        "# training the model\n",
        "history = model.fit(X_train, Y_train, validation_data=(X_valid, Y_valid), batch_size=32, epochs=50, shuffle=True, verbose=1, callbacks=[es,mc])\n",
        "\n",
        "# saving training history (for future visualization)\n",
        "with open('/content/gdrive/MyDrive/M09-P01/train_history_st1.pkl', 'wb') as handle:\n",
        "  pickle.dump(history.history, handle, protocol=pickle.HIGHEST_PROTOCOL)"
      ],
      "metadata": {
        "id": "lpINa5HMbI3B",
        "colab": {
          "base_uri": "https://localhost:8080/"
        },
        "outputId": "233514de-9041-4ab9-c560-66271e8d4678"
      },
      "execution_count": 5,
      "outputs": [
        {
          "output_type": "stream",
          "name": "stdout",
          "text": [
            "Epoch 1/50\n",
            "94/94 [==============================] - ETA: 0s - loss: 0.2969 - mae: 0.3044"
          ]
        },
        {
          "output_type": "stream",
          "name": "stderr",
          "text": [
            "/usr/local/lib/python3.10/dist-packages/tf_keras/src/engine/training.py:3098: UserWarning: You are saving your model as an HDF5 file via `model.save()`. This file format is considered legacy. We recommend using instead the native TF-Keras format, e.g. `model.save('my_model.keras')`.\n",
            "  saving_api.save_model(\n"
          ]
        },
        {
          "output_type": "stream",
          "name": "stdout",
          "text": [
            "\b\b\b\b\b\b\b\b\b\b\b\b\b\b\b\b\b\b\b\b\b\b\b\b\b\b\b\b\b\b\b\b\b\b\b\b\b\b\b\b\b\b\b\b\b\b\b\b\b\b\b\b\b\b\b\b\b\b\b\b\b\b\b\b\b\b\b\b\b\b\b\b\b\b\b\b\b\r94/94 [==============================] - 34s 252ms/step - loss: 0.2969 - mae: 0.3044 - val_loss: 0.2875 - val_mae: 0.2950\n",
            "Epoch 2/50\n",
            "94/94 [==============================] - 11s 118ms/step - loss: 0.2922 - mae: 0.3003 - val_loss: 0.2858 - val_mae: 0.2933\n",
            "Epoch 3/50\n",
            "94/94 [==============================] - 11s 118ms/step - loss: 0.2894 - mae: 0.2962 - val_loss: 0.2687 - val_mae: 0.2702\n",
            "Epoch 4/50\n",
            "94/94 [==============================] - 11s 120ms/step - loss: 0.2806 - mae: 0.2838 - val_loss: 0.2657 - val_mae: 0.2671\n",
            "Epoch 5/50\n",
            "94/94 [==============================] - 11s 121ms/step - loss: 0.2762 - mae: 0.2782 - val_loss: 0.2549 - val_mae: 0.2452\n",
            "Epoch 6/50\n",
            "94/94 [==============================] - 11s 120ms/step - loss: 0.2711 - mae: 0.2716 - val_loss: 0.2502 - val_mae: 0.2408\n",
            "Epoch 7/50\n",
            "94/94 [==============================] - 11s 119ms/step - loss: 0.2667 - mae: 0.2625 - val_loss: 0.2428 - val_mae: 0.2252\n",
            "Epoch 8/50\n",
            "94/94 [==============================] - 11s 121ms/step - loss: 0.2593 - mae: 0.2499 - val_loss: 0.2271 - val_mae: 0.1884\n",
            "Epoch 9/50\n",
            "94/94 [==============================] - 11s 121ms/step - loss: 0.2457 - mae: 0.2221 - val_loss: 0.2116 - val_mae: 0.1469\n",
            "Epoch 10/50\n",
            "94/94 [==============================] - 14s 148ms/step - loss: 0.2279 - mae: 0.1830 - val_loss: 0.1969 - val_mae: 0.1059\n",
            "Epoch 11/50\n",
            "94/94 [==============================] - 11s 122ms/step - loss: 0.2076 - mae: 0.1340 - val_loss: 0.1932 - val_mae: 0.0941\n",
            "Epoch 12/50\n",
            "94/94 [==============================] - 15s 158ms/step - loss: 0.1973 - mae: 0.1046 - val_loss: 0.1921 - val_mae: 0.0922\n",
            "Epoch 13/50\n",
            "94/94 [==============================] - 12s 124ms/step - loss: 0.1946 - mae: 0.0971 - val_loss: 0.1906 - val_mae: 0.0866\n",
            "Epoch 14/50\n",
            "94/94 [==============================] - 12s 123ms/step - loss: 0.1923 - mae: 0.0891 - val_loss: 0.1889 - val_mae: 0.0797\n",
            "Epoch 15/50\n",
            "94/94 [==============================] - 12s 131ms/step - loss: 0.1908 - mae: 0.0837 - val_loss: 0.1877 - val_mae: 0.0738\n",
            "Epoch 16/50\n",
            "94/94 [==============================] - 15s 157ms/step - loss: 0.1889 - mae: 0.0773 - val_loss: 0.1867 - val_mae: 0.0694\n",
            "Epoch 17/50\n",
            "94/94 [==============================] - 12s 123ms/step - loss: 0.1886 - mae: 0.0763 - val_loss: 0.1861 - val_mae: 0.0662\n",
            "Epoch 18/50\n",
            "94/94 [==============================] - 15s 157ms/step - loss: 0.1878 - mae: 0.0738 - val_loss: 0.1855 - val_mae: 0.0633\n",
            "Epoch 19/50\n",
            "94/94 [==============================] - 12s 123ms/step - loss: 0.1873 - mae: 0.0713 - val_loss: 0.1850 - val_mae: 0.0602\n",
            "Epoch 20/50\n",
            "94/94 [==============================] - 15s 157ms/step - loss: 0.1869 - mae: 0.0695 - val_loss: 0.1844 - val_mae: 0.0574\n",
            "Epoch 21/50\n",
            "94/94 [==============================] - 12s 122ms/step - loss: 0.1859 - mae: 0.0653 - val_loss: 0.1840 - val_mae: 0.0551\n",
            "Epoch 22/50\n",
            "94/94 [==============================] - 15s 157ms/step - loss: 0.1860 - mae: 0.0650 - val_loss: 0.1839 - val_mae: 0.0538\n",
            "Epoch 23/50\n",
            "94/94 [==============================] - 15s 164ms/step - loss: 0.1857 - mae: 0.0635 - val_loss: 0.1836 - val_mae: 0.0531\n",
            "Epoch 24/50\n",
            "94/94 [==============================] - 15s 159ms/step - loss: 0.1857 - mae: 0.0635 - val_loss: 0.1835 - val_mae: 0.0522\n",
            "Epoch 25/50\n",
            "94/94 [==============================] - 15s 164ms/step - loss: 0.1851 - mae: 0.0612 - val_loss: 0.1834 - val_mae: 0.0514\n",
            "Epoch 26/50\n",
            "94/94 [==============================] - 12s 123ms/step - loss: 0.1848 - mae: 0.0599 - val_loss: 0.1831 - val_mae: 0.0503\n",
            "Epoch 27/50\n",
            "94/94 [==============================] - 15s 165ms/step - loss: 0.1847 - mae: 0.0589 - val_loss: 0.1830 - val_mae: 0.0495\n",
            "Epoch 28/50\n",
            "94/94 [==============================] - 15s 161ms/step - loss: 0.1846 - mae: 0.0587 - val_loss: 0.1828 - val_mae: 0.0484\n",
            "Epoch 29/50\n",
            "94/94 [==============================] - 15s 161ms/step - loss: 0.1845 - mae: 0.0584 - val_loss: 0.1827 - val_mae: 0.0481\n",
            "Epoch 30/50\n",
            "94/94 [==============================] - 13s 134ms/step - loss: 0.1842 - mae: 0.0568 - val_loss: 0.1827 - val_mae: 0.0474\n",
            "Epoch 31/50\n",
            "94/94 [==============================] - 12s 123ms/step - loss: 0.1839 - mae: 0.0558 - val_loss: 0.1824 - val_mae: 0.0464\n",
            "Epoch 32/50\n",
            "94/94 [==============================] - 12s 124ms/step - loss: 0.1839 - mae: 0.0555 - val_loss: 0.1824 - val_mae: 0.0461\n",
            "Epoch 33/50\n",
            "94/94 [==============================] - 13s 141ms/step - loss: 0.1839 - mae: 0.0551 - val_loss: 0.1823 - val_mae: 0.0463\n",
            "Epoch 34/50\n",
            "94/94 [==============================] - 12s 123ms/step - loss: 0.1836 - mae: 0.0536 - val_loss: 0.1822 - val_mae: 0.0452\n",
            "Epoch 35/50\n",
            "94/94 [==============================] - 19s 207ms/step - loss: 0.1834 - mae: 0.0524 - val_loss: 0.1822 - val_mae: 0.0451\n",
            "Epoch 36/50\n",
            "94/94 [==============================] - 12s 123ms/step - loss: 0.1833 - mae: 0.0528 - val_loss: 0.1821 - val_mae: 0.0444\n",
            "Epoch 37/50\n",
            "94/94 [==============================] - 11s 115ms/step - loss: 0.1833 - mae: 0.0520 - val_loss: 0.1822 - val_mae: 0.0451\n",
            "Epoch 38/50\n",
            "94/94 [==============================] - 16s 167ms/step - loss: 0.1833 - mae: 0.0521 - val_loss: 0.1820 - val_mae: 0.0438\n",
            "Epoch 39/50\n",
            "94/94 [==============================] - 12s 122ms/step - loss: 0.1830 - mae: 0.0505 - val_loss: 0.1819 - val_mae: 0.0435\n",
            "Epoch 40/50\n",
            "94/94 [==============================] - 12s 126ms/step - loss: 0.1830 - mae: 0.0504 - val_loss: 0.1819 - val_mae: 0.0432\n",
            "Epoch 41/50\n",
            "94/94 [==============================] - 11s 122ms/step - loss: 0.1828 - mae: 0.0489 - val_loss: 0.1819 - val_mae: 0.0429\n",
            "Epoch 42/50\n",
            "94/94 [==============================] - 11s 115ms/step - loss: 0.1828 - mae: 0.0491 - val_loss: 0.1819 - val_mae: 0.0433\n",
            "Epoch 43/50\n",
            "94/94 [==============================] - 17s 181ms/step - loss: 0.1828 - mae: 0.0489 - val_loss: 0.1818 - val_mae: 0.0424\n",
            "Epoch 44/50\n",
            "94/94 [==============================] - 11s 115ms/step - loss: 0.1827 - mae: 0.0486 - val_loss: 0.1818 - val_mae: 0.0426\n",
            "Epoch 45/50\n",
            "94/94 [==============================] - 11s 115ms/step - loss: 0.1825 - mae: 0.0475 - val_loss: 0.1818 - val_mae: 0.0430\n",
            "Epoch 46/50\n",
            "94/94 [==============================] - 17s 186ms/step - loss: 0.1825 - mae: 0.0474 - val_loss: 0.1817 - val_mae: 0.0419\n",
            "Epoch 47/50\n",
            "94/94 [==============================] - 12s 133ms/step - loss: 0.1824 - mae: 0.0468 - val_loss: 0.1816 - val_mae: 0.0416\n",
            "Epoch 48/50\n",
            "94/94 [==============================] - 11s 115ms/step - loss: 0.1823 - mae: 0.0460 - val_loss: 0.1817 - val_mae: 0.0420\n",
            "Epoch 49/50\n",
            "94/94 [==============================] - 11s 115ms/step - loss: 0.1822 - mae: 0.0452 - val_loss: 0.1817 - val_mae: 0.0419\n",
            "Epoch 50/50\n",
            "94/94 [==============================] - 19s 206ms/step - loss: 0.1822 - mae: 0.0451 - val_loss: 0.1816 - val_mae: 0.0415\n"
          ]
        }
      ]
    },
    {
      "cell_type": "markdown",
      "source": [
        "## Evaluando el modelo entrenado (Etapa 1) en el conjunto de prueba"
      ],
      "metadata": {
        "id": "0oTh3Iy5dpuh"
      }
    },
    {
      "cell_type": "code",
      "source": [
        "# loading the (best) saved model\n",
        "model = tf_keras.models.load_model('/content/gdrive/MyDrive/M09-P01/best_model_st1.h5')\n",
        "\n",
        "# Evaluate the trained model on the test set\n",
        "print('Evaluating on the test set')\n",
        "predictions = model.predict(X_test, batch_size=32, verbose=1)\n",
        "\n",
        "# Computing the Mean Absolute Error\n",
        "# Also re-scaling the predictions to the range of \"age\" as the outputs are in the range of [0,1]\n",
        "mae = np.mean(abs(predictions[:,0] - Y_test)*100)\n",
        "\n",
        "# Next we print the average error. Note that the error is rescaled back to the range [0-100]\n",
        "print('\\nThe final mean absolute error (on the Test set)  is ' + str(mae) + ' years old.')"
      ],
      "metadata": {
        "id": "3U6OZIsdxic-",
        "colab": {
          "base_uri": "https://localhost:8080/"
        },
        "outputId": "c6c2f512-241b-43b6-bd92-671777299ef6"
      },
      "execution_count": 6,
      "outputs": [
        {
          "output_type": "stream",
          "name": "stdout",
          "text": [
            "Evaluating on the test set\n",
            "32/32 [==============================] - 3s 80ms/step\n",
            "\n",
            "The final mean absolute error (on the Test set)  is 4.931566164513617 years old.\n"
          ]
        }
      ]
    },
    {
      "cell_type": "markdown",
      "source": [
        "## Imprimiendo algunas predicciones generadas (Etapa 1)"
      ],
      "metadata": {
        "id": "yv34sPqmdTZ0"
      }
    },
    {
      "cell_type": "code",
      "source": [
        "# printing some predictions and re-scaling the predicted values to the \"age\" range,\n",
        "# using the normalization factor defined earlier, as output predictions are in\n",
        "# the range of [0,1]\n",
        "for i in range(0,10):\n",
        "  print('predicted age = %.3f - Ground truth = %.3f' %(predictions[i]*100, Y_test[i]*100))"
      ],
      "metadata": {
        "id": "R7OrVVhVdWZn",
        "colab": {
          "base_uri": "https://localhost:8080/"
        },
        "outputId": "6e7472fc-a30e-4534-cb5c-ce518f97b126"
      },
      "execution_count": 7,
      "outputs": [
        {
          "output_type": "stream",
          "name": "stdout",
          "text": [
            "predicted age = 56.820 - Ground truth = 62.351\n",
            "predicted age = 56.298 - Ground truth = 49.974\n",
            "predicted age = 38.737 - Ground truth = 38.189\n",
            "predicted age = 41.845 - Ground truth = 36.795\n",
            "predicted age = 38.987 - Ground truth = 44.297\n",
            "predicted age = 37.254 - Ground truth = 40.744\n",
            "predicted age = 58.318 - Ground truth = 71.263\n",
            "predicted age = 24.642 - Ground truth = 18.237\n",
            "predicted age = 3.293 - Ground truth = 4.026\n",
            "predicted age = 61.126 - Ground truth = 66.263\n"
          ]
        },
        {
          "output_type": "stream",
          "name": "stderr",
          "text": [
            "<ipython-input-7-d85e8ca77b4a>:5: DeprecationWarning: Conversion of an array with ndim > 0 to a scalar is deprecated, and will error in future. Ensure you extract a single element from your array before performing this operation. (Deprecated NumPy 1.25.)\n",
            "  print('predicted age = %.3f - Ground truth = %.3f' %(predictions[i]*100, Y_test[i]*100))\n"
          ]
        }
      ]
    },
    {
      "cell_type": "markdown",
      "metadata": {
        "id": "VITEsCYfHi6q"
      },
      "source": [
        "## **Etapa 2:** ajuste fino de toda la red\n",
        "- A continuación, cargaremos el modelo entrenado en la Etapa 1, **estableceremos todas sus capas como \"entrenables\"** y **entrenaremos todo el modelo**.\n",
        "- La red se entrena con una estrategia similar a la anterior. Sin embargo, la **tasa de aprendizaje se reduce** (de \"1e-4\" a \"1e-5\") para permitir que el algoritmo de entrenamiento intente aproximar mejor el error mínimo deseado.\n"
      ]
    },
    {
      "cell_type": "code",
      "source": [
        "import pickle\n",
        "\n",
        "# LOADING THE PREVIOUSLY TRAINED MODEL\n",
        "model = tf_keras.models.load_model('/content/gdrive/MyDrive/M09-P01/best_model_st1.h5')\n",
        "\n",
        "# setting all layers of the model to trainable\n",
        "model.trainable = True\n",
        "\n",
        "#### MODEL TRAINING ####\n",
        "# defining the early stop criteria\n",
        "es = tf_keras.callbacks.EarlyStopping(monitor='val_loss', mode='min', verbose=1, patience=5)\n",
        "# saving the best model based on val_loss\n",
        "mc = tf_keras.callbacks.ModelCheckpoint('/content/gdrive/MyDrive/M09-P01/best_model_st2.h5', monitor='val_loss', mode='min', save_best_only=True)\n",
        "\n",
        "# defining the optimizer\n",
        "model.compile(tf_keras.optimizers.Adam(learning_rate=1e-5),loss=tf_keras.losses.MeanSquaredError(),metrics=['mae'])\n",
        "\n",
        "# training the model\n",
        "history = model.fit(X_train, Y_train, validation_data=(X_valid, Y_valid), batch_size=32, epochs=50, shuffle=True, verbose=1, callbacks=[es,mc])\n",
        "\n",
        "# saving training history (for future visualization)\n",
        "with open('/content/gdrive/MyDrive/M09-P01/train_history_st2.pkl', 'wb') as handle:\n",
        "  pickle.dump(history.history, handle, protocol=pickle.HIGHEST_PROTOCOL)"
      ],
      "metadata": {
        "id": "9S8mlCoEhScl",
        "colab": {
          "base_uri": "https://localhost:8080/"
        },
        "outputId": "cf931efd-2909-4369-887f-2403af5663b9"
      },
      "execution_count": 8,
      "outputs": [
        {
          "output_type": "stream",
          "name": "stdout",
          "text": [
            "Epoch 1/50\n",
            "94/94 [==============================] - 65s 428ms/step - loss: 0.1818 - mae: 0.0498 - val_loss: 0.1814 - val_mae: 0.0552\n",
            "Epoch 2/50\n",
            "94/94 [==============================] - 44s 464ms/step - loss: 0.1779 - mae: 0.0409 - val_loss: 0.1761 - val_mae: 0.0363\n",
            "Epoch 3/50\n",
            "94/94 [==============================] - 53s 563ms/step - loss: 0.1747 - mae: 0.0367 - val_loss: 0.1732 - val_mae: 0.0362\n",
            "Epoch 4/50\n",
            "94/94 [==============================] - 51s 549ms/step - loss: 0.1718 - mae: 0.0363 - val_loss: 0.1704 - val_mae: 0.0360\n",
            "Epoch 5/50\n",
            "94/94 [==============================] - 55s 589ms/step - loss: 0.1686 - mae: 0.0351 - val_loss: 0.1677 - val_mae: 0.0395\n",
            "Epoch 6/50\n",
            "94/94 [==============================] - 55s 592ms/step - loss: 0.1655 - mae: 0.0341 - val_loss: 0.1643 - val_mae: 0.0358\n",
            "Epoch 7/50\n",
            "94/94 [==============================] - 49s 524ms/step - loss: 0.1623 - mae: 0.0316 - val_loss: 0.1613 - val_mae: 0.0358\n",
            "Epoch 8/50\n",
            "94/94 [==============================] - 44s 469ms/step - loss: 0.1592 - mae: 0.0312 - val_loss: 0.1582 - val_mae: 0.0353\n",
            "Epoch 9/50\n",
            "94/94 [==============================] - 54s 572ms/step - loss: 0.1560 - mae: 0.0294 - val_loss: 0.1553 - val_mae: 0.0366\n",
            "Epoch 10/50\n",
            "94/94 [==============================] - 56s 599ms/step - loss: 0.1529 - mae: 0.0293 - val_loss: 0.1521 - val_mae: 0.0350\n",
            "Epoch 11/50\n",
            "94/94 [==============================] - 58s 619ms/step - loss: 0.1498 - mae: 0.0290 - val_loss: 0.1491 - val_mae: 0.0354\n",
            "Epoch 12/50\n",
            "94/94 [==============================] - 57s 605ms/step - loss: 0.1466 - mae: 0.0278 - val_loss: 0.1465 - val_mae: 0.0400\n",
            "Epoch 13/50\n",
            "94/94 [==============================] - 53s 571ms/step - loss: 0.1434 - mae: 0.0271 - val_loss: 0.1428 - val_mae: 0.0352\n",
            "Epoch 14/50\n",
            "94/94 [==============================] - 53s 568ms/step - loss: 0.1402 - mae: 0.0264 - val_loss: 0.1404 - val_mae: 0.0421\n",
            "Epoch 15/50\n",
            "94/94 [==============================] - 56s 594ms/step - loss: 0.1372 - mae: 0.0269 - val_loss: 0.1371 - val_mae: 0.0402\n",
            "Epoch 16/50\n",
            "94/94 [==============================] - 53s 565ms/step - loss: 0.1339 - mae: 0.0257 - val_loss: 0.1335 - val_mae: 0.0354\n",
            "Epoch 17/50\n",
            "94/94 [==============================] - 53s 566ms/step - loss: 0.1308 - mae: 0.0249 - val_loss: 0.1305 - val_mae: 0.0353\n",
            "Epoch 18/50\n",
            "94/94 [==============================] - 57s 614ms/step - loss: 0.1279 - mae: 0.0253 - val_loss: 0.1276 - val_mae: 0.0366\n",
            "Epoch 19/50\n",
            "94/94 [==============================] - 55s 591ms/step - loss: 0.1249 - mae: 0.0249 - val_loss: 0.1247 - val_mae: 0.0369\n",
            "Epoch 20/50\n",
            "94/94 [==============================] - 45s 482ms/step - loss: 0.1220 - mae: 0.0253 - val_loss: 0.1217 - val_mae: 0.0362\n",
            "Epoch 21/50\n",
            "94/94 [==============================] - 55s 591ms/step - loss: 0.1190 - mae: 0.0245 - val_loss: 0.1187 - val_mae: 0.0346\n",
            "Epoch 22/50\n",
            "94/94 [==============================] - 59s 636ms/step - loss: 0.1161 - mae: 0.0236 - val_loss: 0.1165 - val_mae: 0.0416\n",
            "Epoch 23/50\n",
            "94/94 [==============================] - 56s 603ms/step - loss: 0.1132 - mae: 0.0229 - val_loss: 0.1131 - val_mae: 0.0365\n",
            "Epoch 24/50\n",
            "94/94 [==============================] - 58s 621ms/step - loss: 0.1104 - mae: 0.0233 - val_loss: 0.1105 - val_mae: 0.0387\n",
            "Epoch 25/50\n",
            "94/94 [==============================] - 62s 657ms/step - loss: 0.1075 - mae: 0.0228 - val_loss: 0.1077 - val_mae: 0.0382\n",
            "Epoch 26/50\n",
            "94/94 [==============================] - 61s 647ms/step - loss: 0.1048 - mae: 0.0239 - val_loss: 0.1047 - val_mae: 0.0351\n",
            "Epoch 27/50\n",
            "94/94 [==============================] - 56s 600ms/step - loss: 0.1019 - mae: 0.0224 - val_loss: 0.1020 - val_mae: 0.0367\n",
            "Epoch 28/50\n",
            "94/94 [==============================] - 57s 614ms/step - loss: 0.0992 - mae: 0.0226 - val_loss: 0.0991 - val_mae: 0.0351\n",
            "Epoch 29/50\n",
            "94/94 [==============================] - 52s 558ms/step - loss: 0.0965 - mae: 0.0220 - val_loss: 0.0965 - val_mae: 0.0346\n",
            "Epoch 30/50\n",
            "94/94 [==============================] - 59s 631ms/step - loss: 0.0938 - mae: 0.0219 - val_loss: 0.0940 - val_mae: 0.0365\n",
            "Epoch 31/50\n",
            "94/94 [==============================] - 57s 604ms/step - loss: 0.0912 - mae: 0.0215 - val_loss: 0.0915 - val_mae: 0.0375\n",
            "Epoch 32/50\n",
            "94/94 [==============================] - 52s 558ms/step - loss: 0.0887 - mae: 0.0216 - val_loss: 0.0887 - val_mae: 0.0344\n",
            "Epoch 33/50\n",
            "94/94 [==============================] - 61s 651ms/step - loss: 0.0861 - mae: 0.0203 - val_loss: 0.0863 - val_mae: 0.0349\n",
            "Epoch 34/50\n",
            "94/94 [==============================] - 53s 564ms/step - loss: 0.0836 - mae: 0.0201 - val_loss: 0.0838 - val_mae: 0.0339\n",
            "Epoch 35/50\n",
            "94/94 [==============================] - 53s 568ms/step - loss: 0.0813 - mae: 0.0206 - val_loss: 0.0815 - val_mae: 0.0335\n",
            "Epoch 36/50\n",
            "94/94 [==============================] - 59s 633ms/step - loss: 0.0789 - mae: 0.0201 - val_loss: 0.0794 - val_mae: 0.0368\n",
            "Epoch 37/50\n",
            "94/94 [==============================] - 59s 635ms/step - loss: 0.0766 - mae: 0.0195 - val_loss: 0.0769 - val_mae: 0.0336\n",
            "Epoch 38/50\n",
            "94/94 [==============================] - 57s 613ms/step - loss: 0.0744 - mae: 0.0204 - val_loss: 0.0747 - val_mae: 0.0345\n",
            "Epoch 39/50\n",
            "94/94 [==============================] - 58s 615ms/step - loss: 0.0721 - mae: 0.0188 - val_loss: 0.0728 - val_mae: 0.0366\n",
            "Epoch 40/50\n",
            "94/94 [==============================] - 65s 699ms/step - loss: 0.0700 - mae: 0.0188 - val_loss: 0.0705 - val_mae: 0.0341\n",
            "Epoch 41/50\n",
            "94/94 [==============================] - 55s 591ms/step - loss: 0.0678 - mae: 0.0183 - val_loss: 0.0683 - val_mae: 0.0336\n",
            "Epoch 42/50\n",
            "94/94 [==============================] - 46s 495ms/step - loss: 0.0658 - mae: 0.0187 - val_loss: 0.0665 - val_mae: 0.0368\n",
            "Epoch 43/50\n",
            "94/94 [==============================] - 58s 622ms/step - loss: 0.0638 - mae: 0.0181 - val_loss: 0.0646 - val_mae: 0.0373\n",
            "Epoch 44/50\n",
            "94/94 [==============================] - 53s 569ms/step - loss: 0.0618 - mae: 0.0184 - val_loss: 0.0628 - val_mae: 0.0394\n",
            "Epoch 45/50\n",
            "94/94 [==============================] - 55s 590ms/step - loss: 0.0599 - mae: 0.0178 - val_loss: 0.0606 - val_mae: 0.0346\n",
            "Epoch 46/50\n",
            "94/94 [==============================] - 53s 568ms/step - loss: 0.0580 - mae: 0.0184 - val_loss: 0.0589 - val_mae: 0.0369\n",
            "Epoch 47/50\n",
            "94/94 [==============================] - 58s 616ms/step - loss: 0.0562 - mae: 0.0178 - val_loss: 0.0570 - val_mae: 0.0348\n",
            "Epoch 48/50\n",
            "94/94 [==============================] - 51s 545ms/step - loss: 0.0545 - mae: 0.0185 - val_loss: 0.0552 - val_mae: 0.0336\n",
            "Epoch 49/50\n",
            "94/94 [==============================] - 59s 633ms/step - loss: 0.0529 - mae: 0.0180 - val_loss: 0.0539 - val_mae: 0.0371\n",
            "Epoch 50/50\n",
            "94/94 [==============================] - 53s 570ms/step - loss: 0.0512 - mae: 0.0171 - val_loss: 0.0522 - val_mae: 0.0365\n"
          ]
        }
      ]
    },
    {
      "cell_type": "markdown",
      "source": [
        "## Evaluando el modelo entrenado (Etapa 2) en el conjunto de prueba"
      ],
      "metadata": {
        "id": "OXGYDMZLjeRe"
      }
    },
    {
      "cell_type": "code",
      "source": [
        "# loading the (best) saved model\n",
        "model = tf_keras.models.load_model('/content/gdrive/MyDrive/M09-P01/best_model_st2.h5')\n",
        "\n",
        "# Evaluate the trained model on the test set\n",
        "print('Evaluating on the test set')\n",
        "predictions = model.predict(X_test, batch_size=32, verbose=1)\n",
        "\n",
        "# Computing the Mean Absolute Error\n",
        "# Also re-scaling the predictions to the range of \"age\" as the outputs are in the range of [0,1]\n",
        "mae = np.mean(abs(predictions[:,0] - Y_test)*100)\n",
        "\n",
        "# Next we print the average error. Note that the error is rescaled back to the range [0-100]\n",
        "print('\\nThe final mean absolute error (on the Test set)  is ' + str(mae) + ' years old.')"
      ],
      "metadata": {
        "id": "TOGmPEnZjjnj",
        "colab": {
          "base_uri": "https://localhost:8080/"
        },
        "outputId": "f65ea9b9-7f47-4494-90fd-e4c54ac1acfb"
      },
      "execution_count": 9,
      "outputs": [
        {
          "output_type": "stream",
          "name": "stdout",
          "text": [
            "Evaluating on the test set\n",
            "32/32 [==============================] - 3s 80ms/step\n",
            "\n",
            "The final mean absolute error (on the Test set)  is 4.23920901094297 years old.\n"
          ]
        }
      ]
    },
    {
      "cell_type": "markdown",
      "metadata": {
        "id": "n5hRW7Ryl39L"
      },
      "source": [
        "# Visualizando el historial de entrenamiento de ambas etapas (Etapa 1 y Etapa 2)\n",
        "- Las curvas de ambas etapas están concatenadas.\n",
        "- Se puede observar una caída de la función de pérdida (*Loss*) cerca del *epoch* 50, lo cual indica el final de la Etapa 1 de entrenamiento y el inicio de la Etapa 2.\n",
        "- Tambien se puede observar como la Etapa 2 mejora el desempeño en comparación con la Etapa 1 y con respecto al error evaluado en el conjunto de validación."
      ]
    },
    {
      "cell_type": "code",
      "execution_count": 10,
      "metadata": {
        "id": "fv-M1AhXuJJz",
        "colab": {
          "base_uri": "https://localhost:8080/",
          "height": 445
        },
        "outputId": "ba30814d-9eb4-4d06-909a-5269c49c40ba"
      },
      "outputs": [
        {
          "output_type": "execute_result",
          "data": {
            "text/plain": [
              "<matplotlib.legend.Legend at 0x7ac873ed7af0>"
            ]
          },
          "metadata": {},
          "execution_count": 10
        },
        {
          "output_type": "display_data",
          "data": {
            "text/plain": [
              "<Figure size 1500x400 with 2 Axes>"
            ],
            "image/png": "[encoded data removed]"
          },
          "metadata": {}
        }
      ],
      "source": [
        "import pickle\n",
        "from matplotlib import pyplot as plt\n",
        "\n",
        "train_hist = pickle.load(open('/content/gdrive/MyDrive/M09-P01/train_history_st1.pkl',\"rb\"))\n",
        "train_hist2 = pickle.load(open('/content/gdrive/MyDrive/M09-P01/train_history_st2.pkl',\"rb\"))\n",
        "\n",
        "fig, (ax1, ax2) = plt.subplots(1, 2, figsize=(15, 4))\n",
        "fig.suptitle('Training history (Stage 1 and Stage 2)', fontsize=14, fontweight='bold')\n",
        "\n",
        "ax1.plot(train_hist['loss']+train_hist2['loss'])\n",
        "ax1.plot(train_hist['val_loss']+train_hist2['val_loss'])\n",
        "ax1.set(xlabel='epoch', ylabel='Loss')\n",
        "ax1.legend(['train', 'valid'], loc='upper right')\n",
        "\n",
        "ax2.plot(train_hist['mae']+train_hist2['mae'])\n",
        "ax2.plot(train_hist['val_mae']+train_hist2['val_mae'])\n",
        "ax2.set(xlabel='epoch', ylabel='MAE')\n",
        "ax2.legend(['train', 'valid'], loc='upper right')"
      ]
    }
  ],
  "metadata": {
    "colab": {
      "provenance": [],
      "gpuType": "T4",
      "include_colab_link": true
    },
    "kernelspec": {
      "display_name": "Python 3",
      "name": "python3"
    },
    "language_info": {
      "codemirror_mode": {
        "name": "ipython",
        "version": 3
      },
      "file_extension": ".py",
      "mimetype": "text/x-python",
      "name": "python",
      "nbconvert_exporter": "python",
      "pygments_lexer": "ipython3",
      "version": "3.6.3"
    },
    "accelerator": "GPU"
  },
  "nbformat": 4,
  "nbformat_minor": 0
}